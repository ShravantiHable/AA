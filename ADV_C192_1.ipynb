{
  "nbformat": 4,
  "nbformat_minor": 0,
  "metadata": {
    "colab": {
      "name": "ADV-C192.1.ipynb",
      "provenance": [],
      "authorship_tag": "ABX9TyMrlTEkjnS7vcRSuNDHvb73",
      "include_colab_link": true
    },
    "kernelspec": {
      "name": "python3",
      "display_name": "Python 3"
    }
  },
  "cells": [
    {
      "cell_type": "markdown",
      "metadata": {
        "id": "view-in-github",
        "colab_type": "text"
      },
      "source": [
        "<a href=\"https://colab.research.google.com/github/ShravantiHable/AA/blob/main/ADV_C192_1.ipynb\" target=\"_parent\"><img src=\"https://colab.research.google.com/assets/colab-badge.svg\" alt=\"Open In Colab\"/></a>"
      ]
    },
    {
      "cell_type": "code",
      "metadata": {
        "id": "U1CGt8Fb8oXv"
      },
      "source": [
        "#Addition-Activity-1\r\n",
        "#Find the total number of successful Missions as per the company and create a dataframe out of it\r\n",
        "\r\n",
        "#predefine start\r\n",
        "import pandas as pd \r\n",
        "import matplotlib .pyplot as plt\r\n",
        "\r\n",
        "dataframe = pd.read_csv(\"https://shravantihable.github.io/AA/AAs/Space_Corrected.csv\")\r\n",
        "df=dataframe.dropna()\r\n",
        "df\r\n",
        "#predefine end\r\n",
        "#\r\n",
        "group_by_success= df.loc[df['Status Mission'] == 'Success']\r\n",
        "group_by_success\r\n",
        "count_success = group_by_success.groupby('Company Name')['Status Mission'].count().reset_index(name='Status')\r\n",
        "count_success\r\n"
      ],
      "execution_count": null,
      "outputs": []
    }
  ]
}