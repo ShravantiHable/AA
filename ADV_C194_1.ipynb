{
  "nbformat": 4,
  "nbformat_minor": 0,
  "metadata": {
    "colab": {
      "name": "ADV_C194.1.ipynb",
      "provenance": [],
      "collapsed_sections": [],
      "authorship_tag": "ABX9TyOlO1Se+vMX+xJKqn91ME28",
      "include_colab_link": true
    },
    "kernelspec": {
      "name": "python3",
      "display_name": "Python 3"
    }
  },
  "cells": [
    {
      "cell_type": "markdown",
      "metadata": {
        "id": "view-in-github",
        "colab_type": "text"
      },
      "source": [
        "<a href=\"https://colab.research.google.com/github/ShravantiHable/AA/blob/main/ADV_C194_1.ipynb\" target=\"_parent\"><img src=\"https://colab.research.google.com/assets/colab-badge.svg\" alt=\"Open In Colab\"/></a>"
      ]
    },
    {
      "cell_type": "code",
      "metadata": {
        "id": "qnEWLpYfgYJ7"
      },
      "source": [
        "#Additional-Activty-1\r\n",
        "# count the total movies and total Netflix movies from the dataset.\r\n",
        "#predefine code\r\n",
        "import pandas as pd\r\n",
        "import matplotlib.pyplot as plt\r\n",
        "\r\n",
        "df = pd.read_csv('https://shravantihable.github.io/AA/movie_update.csv')\r\n",
        "df\r\n",
        "#predefined code end\r\n",
        "\r\n",
        "#to count the total number of movies access the 'ID' column present in df dataframe, by passing 'ID' as the index to the dataframe df, followed by '.' dot operator followed by count() function and store it inside the variable total_movies. \r\n",
        "\r\n",
        "#then inside print() function write the string \"Total Movies - \" followed by comma ',' and write the variable total_movies. \r\n",
        "\r\n",
        "\r\n",
        "#to count the total number of netflix movies, first locate all the values of the column 'Netflix' whose value is equal to 1. Do this by using the df.loc[ ] attribute, And inside loc[ ]function write the condition as df['Netflix'] == 1 and store it in variable total_netflix_movies.\r\n",
        "\r\n",
        "#then after getting all the values of 'Netflix' column, whose values are 1, apply the count function on the 'ID' column and store it in variable total_netflix_movies.\r\n",
        "\r\n",
        "#now print the string \"Total Netflix Movies - \" followed by comma ',' followed by variable total_netflix_movies.\r\n"
      ],
      "execution_count": null,
      "outputs": []
    }
  ]
}