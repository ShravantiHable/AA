{
  "nbformat": 4,
  "nbformat_minor": 0,
  "metadata": {
    "colab": {
      "name": "ADV_C201.4(Solution).ipynb",
      "provenance": [],
      "collapsed_sections": [],
      "authorship_tag": "ABX9TyOEqfCmuv4dj0zxO/I2K8Mj",
      "include_colab_link": true
    },
    "kernelspec": {
      "name": "python3",
      "display_name": "Python 3"
    },
    "widgets": {
      "application/vnd.jupyter.widget-state+json": {
        "daa05a1972024d458a050e0c3135bd3f": {
          "model_module": "@jupyter-widgets/controls",
          "model_name": "ButtonModel",
          "state": {
            "_view_name": "ButtonView",
            "style": "IPY_MODEL_b35f29fe10384c3d9addb80f90c2c020",
            "_dom_classes": [],
            "description": "File select",
            "_model_name": "ButtonModel",
            "button_style": "",
            "_view_module": "@jupyter-widgets/controls",
            "_model_module_version": "1.5.0",
            "tooltip": "",
            "_view_count": null,
            "disabled": false,
            "_view_module_version": "1.5.0",
            "layout": "IPY_MODEL_14c763ec541242499062cee372ea3dd8",
            "_model_module": "@jupyter-widgets/controls",
            "icon": ""
          }
        },
        "b35f29fe10384c3d9addb80f90c2c020": {
          "model_module": "@jupyter-widgets/controls",
          "model_name": "ButtonStyleModel",
          "state": {
            "_view_name": "StyleView",
            "_model_name": "ButtonStyleModel",
            "_view_module": "@jupyter-widgets/base",
            "_model_module_version": "1.5.0",
            "_view_count": null,
            "button_color": null,
            "font_weight": "",
            "_view_module_version": "1.2.0",
            "_model_module": "@jupyter-widgets/controls"
          }
        },
        "14c763ec541242499062cee372ea3dd8": {
          "model_module": "@jupyter-widgets/base",
          "model_name": "LayoutModel",
          "state": {
            "_view_name": "LayoutView",
            "grid_template_rows": null,
            "right": null,
            "justify_content": null,
            "_view_module": "@jupyter-widgets/base",
            "overflow": null,
            "_model_module_version": "1.2.0",
            "_view_count": null,
            "flex_flow": null,
            "width": null,
            "min_width": null,
            "border": null,
            "align_items": null,
            "bottom": null,
            "_model_module": "@jupyter-widgets/base",
            "top": null,
            "grid_column": null,
            "overflow_y": null,
            "overflow_x": null,
            "grid_auto_flow": null,
            "grid_area": null,
            "grid_template_columns": null,
            "flex": null,
            "_model_name": "LayoutModel",
            "justify_items": null,
            "grid_row": null,
            "max_height": null,
            "align_content": null,
            "visibility": null,
            "align_self": null,
            "height": null,
            "min_height": null,
            "padding": null,
            "grid_auto_rows": null,
            "grid_gap": null,
            "max_width": null,
            "order": null,
            "_view_module_version": "1.2.0",
            "grid_template_areas": null,
            "object_position": null,
            "object_fit": null,
            "grid_auto_columns": null,
            "margin": null,
            "display": null,
            "left": null
          }
        },
        "7c4885a099a24d9cad5e4a289b87a256": {
          "model_module": "@jupyter-widgets/controls",
          "model_name": "VBoxModel",
          "state": {
            "_view_name": "VBoxView",
            "_dom_classes": [
              "widget-interact"
            ],
            "_model_name": "VBoxModel",
            "_view_module": "@jupyter-widgets/controls",
            "_model_module_version": "1.5.0",
            "_view_count": null,
            "_view_module_version": "1.5.0",
            "box_style": "",
            "layout": "IPY_MODEL_8c4319d4891f4f86a092cc4e59491551",
            "_model_module": "@jupyter-widgets/controls",
            "children": [
              "IPY_MODEL_e239835b39c64d89aa7c99703887fc02",
              "IPY_MODEL_b4bb58057cb244f0b30a0c30bff6c53d",
              "IPY_MODEL_fb87bd228b464db79782d4b08752ed87"
            ]
          }
        },
        "8c4319d4891f4f86a092cc4e59491551": {
          "model_module": "@jupyter-widgets/base",
          "model_name": "LayoutModel",
          "state": {
            "_view_name": "LayoutView",
            "grid_template_rows": null,
            "right": null,
            "justify_content": null,
            "_view_module": "@jupyter-widgets/base",
            "overflow": null,
            "_model_module_version": "1.2.0",
            "_view_count": null,
            "flex_flow": null,
            "width": null,
            "min_width": null,
            "border": null,
            "align_items": null,
            "bottom": null,
            "_model_module": "@jupyter-widgets/base",
            "top": null,
            "grid_column": null,
            "overflow_y": null,
            "overflow_x": null,
            "grid_auto_flow": null,
            "grid_area": null,
            "grid_template_columns": null,
            "flex": null,
            "_model_name": "LayoutModel",
            "justify_items": null,
            "grid_row": null,
            "max_height": null,
            "align_content": null,
            "visibility": null,
            "align_self": null,
            "height": null,
            "min_height": null,
            "padding": null,
            "grid_auto_rows": null,
            "grid_gap": null,
            "max_width": null,
            "order": null,
            "_view_module_version": "1.2.0",
            "grid_template_areas": null,
            "object_position": null,
            "object_fit": null,
            "grid_auto_columns": null,
            "margin": null,
            "display": null,
            "left": null
          }
        },
        "e239835b39c64d89aa7c99703887fc02": {
          "model_module": "@jupyter-widgets/controls",
          "model_name": "RadioButtonsModel",
          "state": {
            "_options_labels": [
              "Name",
              "Percentage",
              "Age"
            ],
            "_view_name": "RadioButtonsView",
            "style": "IPY_MODEL_b67c2f8dd14b4a2d845fd198a183007b",
            "_dom_classes": [],
            "description": "xaxis_label",
            "_model_name": "RadioButtonsModel",
            "index": 0,
            "_view_module": "@jupyter-widgets/controls",
            "_model_module_version": "1.5.0",
            "_view_count": null,
            "disabled": false,
            "_view_module_version": "1.5.0",
            "description_tooltip": null,
            "_model_module": "@jupyter-widgets/controls",
            "layout": "IPY_MODEL_0a7dafc1802d4a049071d8501ccd094b"
          }
        },
        "b4bb58057cb244f0b30a0c30bff6c53d": {
          "model_module": "@jupyter-widgets/controls",
          "model_name": "RadioButtonsModel",
          "state": {
            "_options_labels": [
              "Name",
              "Percentage",
              "Age"
            ],
            "_view_name": "RadioButtonsView",
            "style": "IPY_MODEL_4fe6844f349649b599ca32f847d0cd10",
            "_dom_classes": [],
            "description": "yaxis_label",
            "_model_name": "RadioButtonsModel",
            "index": 1,
            "_view_module": "@jupyter-widgets/controls",
            "_model_module_version": "1.5.0",
            "_view_count": null,
            "disabled": false,
            "_view_module_version": "1.5.0",
            "description_tooltip": null,
            "_model_module": "@jupyter-widgets/controls",
            "layout": "IPY_MODEL_20e779c3866f4c32b214ded056ab1969"
          }
        },
        "fb87bd228b464db79782d4b08752ed87": {
          "model_module": "@jupyter-widgets/output",
          "model_name": "OutputModel",
          "state": {
            "_view_name": "OutputView",
            "msg_id": "",
            "_dom_classes": [],
            "_model_name": "OutputModel",
            "outputs": [
              {
                "output_type": "display_data",
                "metadata": {
                  "tags": [],
                  "needs_background": "light"
                },
                "image/png": "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\n",
                "text/plain": "<Figure size 1368x576 with 1 Axes>"
              }
            ],
            "_view_module": "@jupyter-widgets/output",
            "_model_module_version": "1.0.0",
            "_view_count": null,
            "_view_module_version": "1.0.0",
            "layout": "IPY_MODEL_885f36c8581445e7859327ad4f2270d8",
            "_model_module": "@jupyter-widgets/output"
          }
        },
        "b67c2f8dd14b4a2d845fd198a183007b": {
          "model_module": "@jupyter-widgets/controls",
          "model_name": "DescriptionStyleModel",
          "state": {
            "_view_name": "StyleView",
            "_model_name": "DescriptionStyleModel",
            "description_width": "",
            "_view_module": "@jupyter-widgets/base",
            "_model_module_version": "1.5.0",
            "_view_count": null,
            "_view_module_version": "1.2.0",
            "_model_module": "@jupyter-widgets/controls"
          }
        },
        "0a7dafc1802d4a049071d8501ccd094b": {
          "model_module": "@jupyter-widgets/base",
          "model_name": "LayoutModel",
          "state": {
            "_view_name": "LayoutView",
            "grid_template_rows": null,
            "right": null,
            "justify_content": null,
            "_view_module": "@jupyter-widgets/base",
            "overflow": null,
            "_model_module_version": "1.2.0",
            "_view_count": null,
            "flex_flow": null,
            "width": null,
            "min_width": null,
            "border": null,
            "align_items": null,
            "bottom": null,
            "_model_module": "@jupyter-widgets/base",
            "top": null,
            "grid_column": null,
            "overflow_y": null,
            "overflow_x": null,
            "grid_auto_flow": null,
            "grid_area": null,
            "grid_template_columns": null,
            "flex": null,
            "_model_name": "LayoutModel",
            "justify_items": null,
            "grid_row": null,
            "max_height": null,
            "align_content": null,
            "visibility": null,
            "align_self": null,
            "height": null,
            "min_height": null,
            "padding": null,
            "grid_auto_rows": null,
            "grid_gap": null,
            "max_width": null,
            "order": null,
            "_view_module_version": "1.2.0",
            "grid_template_areas": null,
            "object_position": null,
            "object_fit": null,
            "grid_auto_columns": null,
            "margin": null,
            "display": null,
            "left": null
          }
        },
        "4fe6844f349649b599ca32f847d0cd10": {
          "model_module": "@jupyter-widgets/controls",
          "model_name": "DescriptionStyleModel",
          "state": {
            "_view_name": "StyleView",
            "_model_name": "DescriptionStyleModel",
            "description_width": "",
            "_view_module": "@jupyter-widgets/base",
            "_model_module_version": "1.5.0",
            "_view_count": null,
            "_view_module_version": "1.2.0",
            "_model_module": "@jupyter-widgets/controls"
          }
        },
        "20e779c3866f4c32b214ded056ab1969": {
          "model_module": "@jupyter-widgets/base",
          "model_name": "LayoutModel",
          "state": {
            "_view_name": "LayoutView",
            "grid_template_rows": null,
            "right": null,
            "justify_content": null,
            "_view_module": "@jupyter-widgets/base",
            "overflow": null,
            "_model_module_version": "1.2.0",
            "_view_count": null,
            "flex_flow": null,
            "width": null,
            "min_width": null,
            "border": null,
            "align_items": null,
            "bottom": null,
            "_model_module": "@jupyter-widgets/base",
            "top": null,
            "grid_column": null,
            "overflow_y": null,
            "overflow_x": null,
            "grid_auto_flow": null,
            "grid_area": null,
            "grid_template_columns": null,
            "flex": null,
            "_model_name": "LayoutModel",
            "justify_items": null,
            "grid_row": null,
            "max_height": null,
            "align_content": null,
            "visibility": null,
            "align_self": null,
            "height": null,
            "min_height": null,
            "padding": null,
            "grid_auto_rows": null,
            "grid_gap": null,
            "max_width": null,
            "order": null,
            "_view_module_version": "1.2.0",
            "grid_template_areas": null,
            "object_position": null,
            "object_fit": null,
            "grid_auto_columns": null,
            "margin": null,
            "display": null,
            "left": null
          }
        },
        "885f36c8581445e7859327ad4f2270d8": {
          "model_module": "@jupyter-widgets/base",
          "model_name": "LayoutModel",
          "state": {
            "_view_name": "LayoutView",
            "grid_template_rows": null,
            "right": null,
            "justify_content": null,
            "_view_module": "@jupyter-widgets/base",
            "overflow": null,
            "_model_module_version": "1.2.0",
            "_view_count": null,
            "flex_flow": null,
            "width": null,
            "min_width": null,
            "border": null,
            "align_items": null,
            "bottom": null,
            "_model_module": "@jupyter-widgets/base",
            "top": null,
            "grid_column": null,
            "overflow_y": null,
            "overflow_x": null,
            "grid_auto_flow": null,
            "grid_area": null,
            "grid_template_columns": null,
            "flex": null,
            "_model_name": "LayoutModel",
            "justify_items": null,
            "grid_row": null,
            "max_height": null,
            "align_content": null,
            "visibility": null,
            "align_self": null,
            "height": null,
            "min_height": null,
            "padding": null,
            "grid_auto_rows": null,
            "grid_gap": null,
            "max_width": null,
            "order": null,
            "_view_module_version": "1.2.0",
            "grid_template_areas": null,
            "object_position": null,
            "object_fit": null,
            "grid_auto_columns": null,
            "margin": null,
            "display": null,
            "left": null
          }
        }
      }
    }
  },
  "cells": [
    {
      "cell_type": "markdown",
      "metadata": {
        "id": "view-in-github",
        "colab_type": "text"
      },
      "source": [
        "<a href=\"https://colab.research.google.com/github/ShravantiHable/AA/blob/main/ADV_C201_4(Solution).ipynb\" target=\"_parent\"><img src=\"https://colab.research.google.com/assets/colab-badge.svg\" alt=\"Open In Colab\"/></a>"
      ]
    },
    {
      "cell_type": "code",
      "metadata": {
        "colab": {
          "base_uri": "https://localhost:8080/",
          "height": 791,
          "referenced_widgets": [
            "daa05a1972024d458a050e0c3135bd3f",
            "b35f29fe10384c3d9addb80f90c2c020",
            "14c763ec541242499062cee372ea3dd8",
            "7c4885a099a24d9cad5e4a289b87a256",
            "8c4319d4891f4f86a092cc4e59491551",
            "e239835b39c64d89aa7c99703887fc02",
            "b4bb58057cb244f0b30a0c30bff6c53d",
            "fb87bd228b464db79782d4b08752ed87",
            "b67c2f8dd14b4a2d845fd198a183007b",
            "0a7dafc1802d4a049071d8501ccd094b",
            "4fe6844f349649b599ca32f847d0cd10",
            "20e779c3866f4c32b214ded056ab1969",
            "885f36c8581445e7859327ad4f2270d8"
          ]
        },
        "id": "3aIaYkJSEhgl",
        "outputId": "ff326f83-5649-4348-c51f-8a062161ce30"
      },
      "source": [
        "#Activity 4: using radio button select columns for x and y axis and plot a bar chart for the same.\r\n",
        "from ipywidgets import widgets\r\n",
        "from IPython.display import display, clear_output\r\n",
        "import pandas as pd\r\n",
        "import matplotlib.pyplot as plt \r\n",
        "\r\n",
        "\r\n",
        "df= pd.read_csv(\"https://shravantihable.github.io/AA/percentage.csv\")\r\n",
        "def select_cols(b):\r\n",
        "    #call the clear_output() function to clear the previous output.\r\n",
        "    clear_output()\r\n",
        "    #access the df variable inside the function\r\n",
        "    global df \r\n",
        "    print(df)\r\n",
        "    x= widgets.RadioButtons(options=df.columns,description=\"xaxis_label\")\r\n",
        "    y= widgets.RadioButtons(options=df.columns,description=\"yaxis_label\")\r\n",
        "    #link the radio button widget to the function plot_graph(yet to be created just write and keep the name of function plot_graph) by using the widgets.interactive().And inside this function add the below parameters\r\n",
        "    # 1)plot_graph- this is the function yet to be created for plotting the graph\r\n",
        "    # 2) x_axis=x - this is the column value selected from the drop down for x-axis\r\n",
        "    # 3) y_axis - this is the column value selected from the drop down for y-axis\r\n",
        "    #and store this linked function and radio button in  a variable graph.\r\n",
        "    graph=widgets.interactive(plot_graph, x_axis=x, y_axis=y)\r\n",
        "    display(graph)\r\n",
        "    \r\n",
        "fileselect = widgets.Button(description=\"File select\")\r\n",
        "fileselect.on_click(select_cols)\r\n",
        "display(fileselect)\r\n",
        "\r\n",
        "\r\n",
        "def plot_graph(x_axis,y_axis):\r\n",
        "    #access the df variable inside the function\r\n",
        "    global df\r\n",
        "    plt.subplots(figsize=(19,8))\r\n",
        "    #using the plt.bar() function plot the bar graph, for the columns selected, for this update the below parameters of this function.\r\n",
        "    #1) df[x_axis]- this is the column of the dataframe which is selected using the radio button for x-axis.\r\n",
        "    #2) df[y_axis]- this is the column of the dataframe which is selected using the radio button for y-axis.\r\n",
        "    #3) color=[]- add the colors of your choice inside this list.\r\n",
        "    plt.bar(df[x_axis], df[y_axis], color=['red', 'green','blue','yellow','pink'])\r\n",
        "    plt.xlabel(x_axis)\r\n",
        "    plt.ylabel(y_axis)\r\n",
        "    plt.show()\r\n"
      ],
      "execution_count": 2,
      "outputs": [
        {
          "output_type": "stream",
          "text": [
            "     Name  Percentage  Age\n",
            "0  aparna          90   16\n",
            "1  akshay          40   17\n",
            "2    lisa          80   18\n",
            "3    joey          98   16\n",
            "4    john          89   17\n"
          ],
          "name": "stdout"
        },
        {
          "output_type": "display_data",
          "data": {
            "application/vnd.jupyter.widget-view+json": {
              "model_id": "7c4885a099a24d9cad5e4a289b87a256",
              "version_minor": 0,
              "version_major": 2
            },
            "text/plain": [
              "interactive(children=(RadioButtons(description='xaxis_label', options=('Name', 'Percentage', 'Age'), value='Na…"
            ]
          },
          "metadata": {
            "tags": []
          }
        }
      ]
    }
  ]
}