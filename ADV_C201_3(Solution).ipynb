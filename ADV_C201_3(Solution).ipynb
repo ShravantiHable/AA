{
  "nbformat": 4,
  "nbformat_minor": 0,
  "metadata": {
    "colab": {
      "name": "ADV_C201.3(Solution).ipynb",
      "provenance": [],
      "collapsed_sections": [],
      "authorship_tag": "ABX9TyOqNB+mg6uXCh2ka3D4lhBS",
      "include_colab_link": true
    },
    "kernelspec": {
      "name": "python3",
      "display_name": "Python 3"
    },
    "widgets": {
      "application/vnd.jupyter.widget-state+json": {
        "abb7509360314f5f903655e86015cd10": {
          "model_module": "@jupyter-widgets/controls",
          "model_name": "ButtonModel",
          "state": {
            "_view_name": "ButtonView",
            "style": "IPY_MODEL_0843a691e76a4519b1cec1f42b76030d",
            "_dom_classes": [],
            "description": "File select",
            "_model_name": "ButtonModel",
            "button_style": "",
            "_view_module": "@jupyter-widgets/controls",
            "_model_module_version": "1.5.0",
            "tooltip": "",
            "_view_count": null,
            "disabled": false,
            "_view_module_version": "1.5.0",
            "layout": "IPY_MODEL_31cf38a61dbf4e93bd96c34e0e51258e",
            "_model_module": "@jupyter-widgets/controls",
            "icon": ""
          }
        },
        "0843a691e76a4519b1cec1f42b76030d": {
          "model_module": "@jupyter-widgets/controls",
          "model_name": "ButtonStyleModel",
          "state": {
            "_view_name": "StyleView",
            "_model_name": "ButtonStyleModel",
            "_view_module": "@jupyter-widgets/base",
            "_model_module_version": "1.5.0",
            "_view_count": null,
            "button_color": null,
            "font_weight": "",
            "_view_module_version": "1.2.0",
            "_model_module": "@jupyter-widgets/controls"
          }
        },
        "31cf38a61dbf4e93bd96c34e0e51258e": {
          "model_module": "@jupyter-widgets/base",
          "model_name": "LayoutModel",
          "state": {
            "_view_name": "LayoutView",
            "grid_template_rows": null,
            "right": null,
            "justify_content": null,
            "_view_module": "@jupyter-widgets/base",
            "overflow": null,
            "_model_module_version": "1.2.0",
            "_view_count": null,
            "flex_flow": null,
            "width": null,
            "min_width": null,
            "border": null,
            "align_items": null,
            "bottom": null,
            "_model_module": "@jupyter-widgets/base",
            "top": null,
            "grid_column": null,
            "overflow_y": null,
            "overflow_x": null,
            "grid_auto_flow": null,
            "grid_area": null,
            "grid_template_columns": null,
            "flex": null,
            "_model_name": "LayoutModel",
            "justify_items": null,
            "grid_row": null,
            "max_height": null,
            "align_content": null,
            "visibility": null,
            "align_self": null,
            "height": null,
            "min_height": null,
            "padding": null,
            "grid_auto_rows": null,
            "grid_gap": null,
            "max_width": null,
            "order": null,
            "_view_module_version": "1.2.0",
            "grid_template_areas": null,
            "object_position": null,
            "object_fit": null,
            "grid_auto_columns": null,
            "margin": null,
            "display": null,
            "left": null
          }
        },
        "9a816df231a44c60a8f2c5cd6fa3f5a8": {
          "model_module": "@jupyter-widgets/controls",
          "model_name": "RadioButtonsModel",
          "state": {
            "_options_labels": [
              "Name",
              "Percentage",
              "Age"
            ],
            "_view_name": "RadioButtonsView",
            "style": "IPY_MODEL_aa9109e6f44240729f5652a76033f1c7",
            "_dom_classes": [],
            "description": "xaxis_label",
            "_model_name": "RadioButtonsModel",
            "index": 1,
            "_view_module": "@jupyter-widgets/controls",
            "_model_module_version": "1.5.0",
            "_view_count": null,
            "disabled": false,
            "_view_module_version": "1.5.0",
            "description_tooltip": null,
            "_model_module": "@jupyter-widgets/controls",
            "layout": "IPY_MODEL_3a7d274f71c44de793bfba1c4d5b9e41"
          }
        },
        "aa9109e6f44240729f5652a76033f1c7": {
          "model_module": "@jupyter-widgets/controls",
          "model_name": "DescriptionStyleModel",
          "state": {
            "_view_name": "StyleView",
            "_model_name": "DescriptionStyleModel",
            "description_width": "",
            "_view_module": "@jupyter-widgets/base",
            "_model_module_version": "1.5.0",
            "_view_count": null,
            "_view_module_version": "1.2.0",
            "_model_module": "@jupyter-widgets/controls"
          }
        },
        "3a7d274f71c44de793bfba1c4d5b9e41": {
          "model_module": "@jupyter-widgets/base",
          "model_name": "LayoutModel",
          "state": {
            "_view_name": "LayoutView",
            "grid_template_rows": null,
            "right": null,
            "justify_content": null,
            "_view_module": "@jupyter-widgets/base",
            "overflow": null,
            "_model_module_version": "1.2.0",
            "_view_count": null,
            "flex_flow": null,
            "width": null,
            "min_width": null,
            "border": null,
            "align_items": null,
            "bottom": null,
            "_model_module": "@jupyter-widgets/base",
            "top": null,
            "grid_column": null,
            "overflow_y": null,
            "overflow_x": null,
            "grid_auto_flow": null,
            "grid_area": null,
            "grid_template_columns": null,
            "flex": null,
            "_model_name": "LayoutModel",
            "justify_items": null,
            "grid_row": null,
            "max_height": null,
            "align_content": null,
            "visibility": null,
            "align_self": null,
            "height": null,
            "min_height": null,
            "padding": null,
            "grid_auto_rows": null,
            "grid_gap": null,
            "max_width": null,
            "order": null,
            "_view_module_version": "1.2.0",
            "grid_template_areas": null,
            "object_position": null,
            "object_fit": null,
            "grid_auto_columns": null,
            "margin": null,
            "display": null,
            "left": null
          }
        },
        "701ca1e1f46547c4bdac8658300c4118": {
          "model_module": "@jupyter-widgets/controls",
          "model_name": "RadioButtonsModel",
          "state": {
            "_options_labels": [
              "Name",
              "Percentage",
              "Age"
            ],
            "_view_name": "RadioButtonsView",
            "style": "IPY_MODEL_f29c403e91b8458d982b5c987b114c43",
            "_dom_classes": [],
            "description": "yaxis_label",
            "_model_name": "RadioButtonsModel",
            "index": 2,
            "_view_module": "@jupyter-widgets/controls",
            "_model_module_version": "1.5.0",
            "_view_count": null,
            "disabled": false,
            "_view_module_version": "1.5.0",
            "description_tooltip": null,
            "_model_module": "@jupyter-widgets/controls",
            "layout": "IPY_MODEL_6fced60e6da742548f9a9313186f9a48"
          }
        },
        "f29c403e91b8458d982b5c987b114c43": {
          "model_module": "@jupyter-widgets/controls",
          "model_name": "DescriptionStyleModel",
          "state": {
            "_view_name": "StyleView",
            "_model_name": "DescriptionStyleModel",
            "description_width": "",
            "_view_module": "@jupyter-widgets/base",
            "_model_module_version": "1.5.0",
            "_view_count": null,
            "_view_module_version": "1.2.0",
            "_model_module": "@jupyter-widgets/controls"
          }
        },
        "6fced60e6da742548f9a9313186f9a48": {
          "model_module": "@jupyter-widgets/base",
          "model_name": "LayoutModel",
          "state": {
            "_view_name": "LayoutView",
            "grid_template_rows": null,
            "right": null,
            "justify_content": null,
            "_view_module": "@jupyter-widgets/base",
            "overflow": null,
            "_model_module_version": "1.2.0",
            "_view_count": null,
            "flex_flow": null,
            "width": null,
            "min_width": null,
            "border": null,
            "align_items": null,
            "bottom": null,
            "_model_module": "@jupyter-widgets/base",
            "top": null,
            "grid_column": null,
            "overflow_y": null,
            "overflow_x": null,
            "grid_auto_flow": null,
            "grid_area": null,
            "grid_template_columns": null,
            "flex": null,
            "_model_name": "LayoutModel",
            "justify_items": null,
            "grid_row": null,
            "max_height": null,
            "align_content": null,
            "visibility": null,
            "align_self": null,
            "height": null,
            "min_height": null,
            "padding": null,
            "grid_auto_rows": null,
            "grid_gap": null,
            "max_width": null,
            "order": null,
            "_view_module_version": "1.2.0",
            "grid_template_areas": null,
            "object_position": null,
            "object_fit": null,
            "grid_auto_columns": null,
            "margin": null,
            "display": null,
            "left": null
          }
        }
      }
    }
  },
  "cells": [
    {
      "cell_type": "markdown",
      "metadata": {
        "id": "view-in-github",
        "colab_type": "text"
      },
      "source": [
        "<a href=\"https://colab.research.google.com/github/ShravantiHable/AA/blob/main/ADV_C201_3(Solution).ipynb\" target=\"_parent\"><img src=\"https://colab.research.google.com/assets/colab-badge.svg\" alt=\"Open In Colab\"/></a>"
      ]
    },
    {
      "cell_type": "code",
      "metadata": {
        "colab": {
          "base_uri": "https://localhost:8080/",
          "height": 341,
          "referenced_widgets": [
            "abb7509360314f5f903655e86015cd10",
            "0843a691e76a4519b1cec1f42b76030d",
            "31cf38a61dbf4e93bd96c34e0e51258e",
            "9a816df231a44c60a8f2c5cd6fa3f5a8",
            "aa9109e6f44240729f5652a76033f1c7",
            "3a7d274f71c44de793bfba1c4d5b9e41",
            "701ca1e1f46547c4bdac8658300c4118",
            "f29c403e91b8458d982b5c987b114c43",
            "6fced60e6da742548f9a9313186f9a48"
          ]
        },
        "id": "ybz70ysqBpML",
        "outputId": "8e26f8d2-b2e5-4c16-fba3-aa03fbbbca1d"
      },
      "source": [
        "#Activity 3: create the radio buttons to select the x-axis and y-axis values.\r\n",
        "from ipywidgets import widgets\r\n",
        "from IPython.display import display, clear_output\r\n",
        "import pandas as pd\r\n",
        "import matplotlib.pyplot as plt \r\n",
        "\r\n",
        "\r\n",
        "\r\n",
        "def select_cols(b):\r\n",
        "    df = pd.read_csv(\"https://shravantihable.github.io/AA/percentage.csv\")\r\n",
        "    #using the print() function print the df dataframe \r\n",
        "    print(df)\r\n",
        "    #define a variable x and inside it store the radio button. For this use the widgets.RadioButtons() function and inside it pass two parameters 1) options as df.columns and set suitable description for the radio button.\r\n",
        "    x= widgets.RadioButtons(options=df.columns, description=\"xaxis_label\")\r\n",
        "    #now display this radio button stored in x using the display() function\r\n",
        "    display(x)\r\n",
        "    #similarly define a variable y and inside it store the radio button widget. For this again use the the widgets.RadioButtons() function and inside it pass two parameters 1) options as df.columns and set suitable description for the radio button.\r\n",
        "    y= widgets.RadioButtons(options=df.columns, description=\"yaxis_label\")\r\n",
        "    #display this radio button widget present in y variable\r\n",
        "    display(y)\r\n",
        "\r\n",
        "\r\n",
        "fileselect = widgets.Button(description=\"File select\")\r\n",
        "#now using the variable fileselect  which holds the button component, access the on_click() function and inside it pass the function name select_cols\r\n",
        "fileselect.on_click(select_cols)\r\n",
        "#using the display() function call the fileselect variable to display the button on the output cell.\r\n",
        "display(fileselect)\r\n"
      ],
      "execution_count": 2,
      "outputs": [
        {
          "output_type": "display_data",
          "data": {
            "application/vnd.jupyter.widget-view+json": {
              "model_id": "abb7509360314f5f903655e86015cd10",
              "version_minor": 0,
              "version_major": 2
            },
            "text/plain": [
              "Button(description='File select', style=ButtonStyle())"
            ]
          },
          "metadata": {
            "tags": []
          }
        },
        {
          "output_type": "stream",
          "text": [
            "     Name  Percentage  Age\n",
            "0  aparna          90   16\n",
            "1  akshay          40   17\n",
            "2    lisa          80   18\n",
            "3    joey          98   16\n",
            "4    john          89   17\n"
          ],
          "name": "stdout"
        },
        {
          "output_type": "display_data",
          "data": {
            "application/vnd.jupyter.widget-view+json": {
              "model_id": "9a816df231a44c60a8f2c5cd6fa3f5a8",
              "version_minor": 0,
              "version_major": 2
            },
            "text/plain": [
              "RadioButtons(description='xaxis_label', options=('Name', 'Percentage', 'Age'), value='Name')"
            ]
          },
          "metadata": {
            "tags": []
          }
        },
        {
          "output_type": "display_data",
          "data": {
            "application/vnd.jupyter.widget-view+json": {
              "model_id": "701ca1e1f46547c4bdac8658300c4118",
              "version_minor": 0,
              "version_major": 2
            },
            "text/plain": [
              "RadioButtons(description='yaxis_label', options=('Name', 'Percentage', 'Age'), value='Name')"
            ]
          },
          "metadata": {
            "tags": []
          }
        }
      ]
    },
    {
      "cell_type": "code",
      "metadata": {
        "id": "ddrGCdzbCUab"
      },
      "source": [
        ""
      ],
      "execution_count": null,
      "outputs": []
    }
  ]
}