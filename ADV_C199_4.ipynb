{
  "nbformat": 4,
  "nbformat_minor": 0,
  "metadata": {
    "colab": {
      "name": "ADV_C199.4.ipynb",
      "provenance": [],
      "collapsed_sections": [],
      "authorship_tag": "ABX9TyM9u9E+RYeL1Mjh0JR3m4FX",
      "include_colab_link": true
    },
    "kernelspec": {
      "name": "python3",
      "display_name": "Python 3"
    }
  },
  "cells": [
    {
      "cell_type": "markdown",
      "metadata": {
        "id": "view-in-github",
        "colab_type": "text"
      },
      "source": [
        "<a href=\"https://colab.research.google.com/github/ShravantiHable/AA/blob/main/ADV_C199_4.ipynb\" target=\"_parent\"><img src=\"https://colab.research.google.com/assets/colab-badge.svg\" alt=\"Open In Colab\"/></a>"
      ]
    },
    {
      "cell_type": "code",
      "metadata": {
        "id": "31qT9iHma9_H"
      },
      "source": [
        "#AA4-create a function which will take the values from both the drop down and perform multiplication. Then create a button to call this function and print output\r\n",
        "#predefine code\r\n",
        "from ipywidgets import widgets\r\n",
        "from IPython.display import display, clear_output\r\n",
        "import numpy as np\r\n",
        "\r\n",
        "List1=np.arange(1,51,1)\r\n",
        "List2=np.arange(1,51,1)\r\n",
        "\r\n",
        "dropdown1=widgets.Dropdown(options = List1,description='List 1',value=1)\r\n",
        "display(dropdown1)\r\n",
        "dropdown2=widgets.Dropdown(options = List2,description='List 2',value=1)\r\n",
        "display(dropdown2)  \r\n",
        "#predefined end\r\n",
        "\r\n",
        "#using the def keyword define a function multiply_nos(), and inside it pass a parameter b, this b will generate an event, when the function is called, on click of the button.\r\n",
        "def multiply_nos(b):\r\n",
        "    #inside this function declare the variable  dropdown1 as global to use it inside the function\r\n",
        "\r\n",
        "    #inside this function declare the variable  dropdown1 as global to use it inside the function\r\n",
        "\r\n",
        "    #define a variable  Multiplication and inside it store the  Multiplication of values taken from drop down widget. For this, access the values of dropdown1 using .value like this dropdown1.value and access the values of dropdown2 using .value like this dropdown2.value then multiply these values using '*' operator.\r\n",
        "\r\n",
        "    #then print the variable Multiplication using the print() function\r\n",
        " \r\n",
        "\r\n",
        "#now, define  a variable multiply_btn, and inside it store the button component. So create a Button component, using the widgets.Button() function and inside it set the discription parameter to a string \"Multiply\".    \r\n",
        "\r\n",
        "#now using the variable multiply_btn which holds the button component, access the on_click() function and inside it pass the function name multiply_nos\r\n",
        "\r\n",
        "#using the display() function call the multiply_btn variable to display the button on the output cell.\r\n",
        "\r\n",
        "\r\n"
      ],
      "execution_count": null,
      "outputs": []
    }
  ]
}