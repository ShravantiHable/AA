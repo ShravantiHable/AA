{
  "nbformat": 4,
  "nbformat_minor": 0,
  "metadata": {
    "colab": {
      "name": "ADV-C121.5.ipynb",
      "provenance": [],
      "authorship_tag": "ABX9TyO6p2yCvFB2NXGX1efFIWUk",
      "include_colab_link": true
    },
    "kernelspec": {
      "name": "python3",
      "display_name": "Python 3"
    }
  },
  "cells": [
    {
      "cell_type": "markdown",
      "metadata": {
        "id": "view-in-github",
        "colab_type": "text"
      },
      "source": [
        "<a href=\"https://colab.research.google.com/github/ShravantiHable/AA/blob/main/ADV_C121_5.ipynb\" target=\"_parent\"><img src=\"https://colab.research.google.com/assets/colab-badge.svg\" alt=\"Open In Colab\"/></a>"
      ]
    },
    {
      "cell_type": "code",
      "metadata": {
        "id": "VgONO150gV5c"
      },
      "source": [
        "#Activity 5: Create a color picker widget, and apply the picked color to the bar chart.\r\n",
        "from ipywidgets import widgets\r\n",
        "from IPython.display import display, clear_output\r\n",
        "import pandas as pd\r\n",
        "import matplotlib.pyplot as plt \r\n",
        "\r\n",
        "\r\n",
        "df = pd.read_csv(\"https://shravantihable.github.io/AA/percentage.csv\")\r\n",
        "def select_cols(b):\r\n",
        "    clear_output()\r\n",
        "    global df\r\n",
        "    print(df)\r\n",
        "    x= widgets.RadioButtons(options=df.columns)\r\n",
        "    y= widgets.RadioButtons(options=df.columns)\r\n",
        "    #create a color Picker using the widgets.ColorPicker() function, and set the two parameters:\r\n",
        "    #description - any suitable description to the color picker\r\n",
        "    #value- any color which you desire to be added on the bar graph.\r\n",
        "   \r\n",
        "    #define a variable graph, and inside it link all the widgets, using the widgets.interactive() function.And set the below parameters\r\n",
        "    #plot_graph\r\n",
        "    #x_axis=x\r\n",
        "    #y_axis=y\r\n",
        "    #colors= c\r\n",
        "\r\n",
        "    \r\n",
        "    display(graph)\r\n",
        "    \r\n",
        "fileselect = widgets.Button(description=\"File select\")\r\n",
        "fileselect.on_click(select_cols)\r\n",
        "display(fileselect)\r\n",
        "\r\n",
        "def plot_graph(x_axis,y_axis,colors):\r\n",
        "    plt.subplots(figsize=(19,8))\r\n",
        "        #using the plt.bar() function plot the bar graph, for the columns selected, for this update the below parameters of this function.\r\n",
        "    #1) df[x_axis]- this is the column of the dataframe which is selected using the radio button for x-axis.\r\n",
        "    #2) df[y_axis]- this is the column of the dataframe which is selected using the radio button for y-axis.\r\n",
        "    #3) color=colors- this is the value of the color picker. \r\n",
        "   \r\n",
        "    plt.xlabel(x_axis)\r\n",
        "    plt.ylabel(y_axis)\r\n",
        "    plt.show()"
      ],
      "execution_count": null,
      "outputs": []
    }
  ]
}