{
  "nbformat": 4,
  "nbformat_minor": 0,
  "metadata": {
    "colab": {
      "name": "ADV_C191.5.ipynb",
      "provenance": [],
      "collapsed_sections": [],
      "authorship_tag": "ABX9TyOuv0UnNBVUWaNygng3VTvd",
      "include_colab_link": true
    },
    "kernelspec": {
      "name": "python3",
      "display_name": "Python 3"
    }
  },
  "cells": [
    {
      "cell_type": "markdown",
      "metadata": {
        "id": "view-in-github",
        "colab_type": "text"
      },
      "source": [
        "<a href=\"https://colab.research.google.com/github/ShravantiHable/AA/blob/main/ADV_C191_5.ipynb\" target=\"_parent\"><img src=\"https://colab.research.google.com/assets/colab-badge.svg\" alt=\"Open In Colab\"/></a>"
      ]
    },
    {
      "cell_type": "code",
      "metadata": {
        "id": "4aGLf4N1lXiX"
      },
      "source": [
        "#Addition-Activity-5\r\n",
        "#Get the status of the mission who's Cost was maximum?\r\n",
        "#Get the status of the mission who's Cost was minimum?\r\n",
        "\r\n",
        "\r\n",
        "import pandas as pd \r\n",
        "import matplotlib .pyplot as plt\r\n",
        "\r\n",
        "dataframe = pd.read_csv(\"https://shravantihable.github.io/AA/AA's/Space_Corrected.csv\")\r\n",
        "df=dataframe.dropna()\r\n",
        "df\r\n",
        "\r\n",
        "new = df.rename(columns={\" Rocket\": \"Cost_Of_Mission\"})\r\n",
        "sorted_df = new.sort_values(by=['Cost_Of_Mission'])\r\n",
        "sorted_df\r\n",
        "\r\n",
        "\r\n",
        "#retrive the first row of the dataframe present in the variable sorted_df using the head() function and pass 1 inside the head() function and store this in variable maximum.\r\n",
        "\r\n",
        "\r\n",
        "#retrive the first row of the dataframe present in the variable sorted_df using the tail() function and pass 1 inside the tail() function and store this in variable minimum.\r\n",
        "\r\n",
        "#using the print() function, print the string \"Maximum : \"\r\n",
        "\r\n",
        "#inside the print() function write the string as \"Rocket Name : \" followed by maximum['Status Rocket'], which gives the the status of the mission who's Cost was maximum\r\n",
        "\r\n",
        "\r\n",
        "#using the print() function, print the string \"Minimum : \"\r\n",
        "\r\n",
        "\r\n",
        "#inside the print() function write the string as \"Rocket Name : \" followed by minimum['Status Rocket'], which gives the the status of the mission who's Cost was minimum\r\n"
      ],
      "execution_count": null,
      "outputs": []
    }
  ]
}