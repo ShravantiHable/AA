{
  "nbformat": 4,
  "nbformat_minor": 0,
  "metadata": {
    "colab": {
      "name": "ADV_C194.5(Solution).ipynb",
      "provenance": [],
      "collapsed_sections": [],
      "authorship_tag": "ABX9TyNB2reCgIRaBFp1b3sG4xrW",
      "include_colab_link": true
    },
    "kernelspec": {
      "name": "python3",
      "display_name": "Python 3"
    }
  },
  "cells": [
    {
      "cell_type": "markdown",
      "metadata": {
        "id": "view-in-github",
        "colab_type": "text"
      },
      "source": [
        "<a href=\"https://colab.research.google.com/github/ShravantiHable/AA/blob/main/ADV_C194_5(Solution).ipynb\" target=\"_parent\"><img src=\"https://colab.research.google.com/assets/colab-badge.svg\" alt=\"Open In Colab\"/></a>"
      ]
    },
    {
      "cell_type": "code",
      "metadata": {
        "colab": {
          "base_uri": "https://localhost:8080/",
          "height": 80
        },
        "id": "102UqRmhogBD",
        "outputId": "3c5e78df-1620-429c-822b-168b1005f919"
      },
      "source": [
        "#Additional-Activty-5\r\n",
        "#to find the maximum IMDb as per the year,\r\n",
        "\r\n",
        "#predefine code\r\n",
        "import pandas as pd\r\n",
        "import matplotlib.pyplot as plt\r\n",
        "df = pd.read_csv('https://shravantihable.github.io/AA/movie_update.csv')\r\n",
        "df\r\n",
        "\r\n",
        "#predefine code end\r\n",
        "#Press shift + enter to run the cell and check what columns are there in dataframe\r\n",
        "\r\n",
        "#first group values of the 'Year' column by applying df.groupby function, and then add the column 'IMDb' inside the sqauare brackets and apply the max() function to it, and reset the index to 0 group_by_year.\r\n",
        "group_by_year = df.groupby('Year')['IMDb'].max().reset_index()\r\n",
        "#print the variable group_by_year\r\n",
        "group_by_year\r\n",
        "#From the group by, we will search year 2019 using loc[] function,and inside it write the condition to check the column 'Year' present in group_by_year equal to 2019.\r\n",
        "group_by_year.loc[group_by_year['Year'] == 2019]"
      ],
      "execution_count": null,
      "outputs": [
        {
          "output_type": "execute_result",
          "data": {
            "text/html": [
              "<div>\n",
              "<style scoped>\n",
              "    .dataframe tbody tr th:only-of-type {\n",
              "        vertical-align: middle;\n",
              "    }\n",
              "\n",
              "    .dataframe tbody tr th {\n",
              "        vertical-align: top;\n",
              "    }\n",
              "\n",
              "    .dataframe thead th {\n",
              "        text-align: right;\n",
              "    }\n",
              "</style>\n",
              "<table border=\"1\" class=\"dataframe\">\n",
              "  <thead>\n",
              "    <tr style=\"text-align: right;\">\n",
              "      <th></th>\n",
              "      <th>Year</th>\n",
              "      <th>IMDb</th>\n",
              "    </tr>\n",
              "  </thead>\n",
              "  <tbody>\n",
              "    <tr>\n",
              "      <th>107</th>\n",
              "      <td>2019</td>\n",
              "      <td>9.3</td>\n",
              "    </tr>\n",
              "  </tbody>\n",
              "</table>\n",
              "</div>"
            ],
            "text/plain": [
              "     Year  IMDb\n",
              "107  2019   9.3"
            ]
          },
          "metadata": {
            "tags": []
          },
          "execution_count": 1
        }
      ]
    }
  ]
}