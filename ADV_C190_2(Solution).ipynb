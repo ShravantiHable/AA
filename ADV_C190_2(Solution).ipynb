{
  "nbformat": 4,
  "nbformat_minor": 0,
  "metadata": {
    "colab": {
      "name": "ADV_C190.2(Solution).ipynb",
      "provenance": [],
      "collapsed_sections": [],
      "authorship_tag": "ABX9TyM8jkC7QcOGbjyxMYIk+e3W",
      "include_colab_link": true
    },
    "kernelspec": {
      "name": "python3",
      "display_name": "Python 3"
    }
  },
  "cells": [
    {
      "cell_type": "markdown",
      "metadata": {
        "id": "view-in-github",
        "colab_type": "text"
      },
      "source": [
        "<a href=\"https://colab.research.google.com/github/ShravantiHable/AA/blob/main/ADV_C190_2(Solution).ipynb\" target=\"_parent\"><img src=\"https://colab.research.google.com/assets/colab-badge.svg\" alt=\"Open In Colab\"/></a>"
      ]
    },
    {
      "cell_type": "code",
      "metadata": {
        "colab": {
          "base_uri": "https://localhost:8080/"
        },
        "id": "j2M8-kMD2zJW",
        "outputId": "5dfffce6-031e-48f4-9c9d-e9d472a6156d"
      },
      "source": [
        "#Additional-Activity-2\r\n",
        "#The  \"Launch_Date.csv\" file is sorted in descending order\r\n",
        "#So read the CSV and get the name and date of the Satellites which was launched earliest\r\n",
        "\r\n",
        "#predefine code\r\n",
        "import pandas as pd\r\n",
        "from matplotlib import pyplot as plt\r\n",
        "df = pd.read_csv('https://shravantihable.github.io/AA/Launch_Date.csv')\r\n",
        "df\r\n",
        "#predefine code end\r\n",
        "\r\n",
        "#from the dataframe df retrive the last row using the tail() function and store it in variable earliest_satellites.\r\n",
        "earliest_satellites = df.tail(1)\r\n",
        "\r\n",
        "#inside the print() function write the string as \"Oldest On : \"\r\n",
        "print(\"Oldest On : \")\r\n",
        "#inside the print() function access the values of column 'Launch Date' which is present in dataset earliest_satellites, by writing the 'Launch Date' inside square bracktes.\r\n",
        "print (earliest_satellites['Launch Date'])\r\n",
        "#inside the print() function access the values of column 'Name' which is present in dataset earliest_satellites, by writing the 'Name' inside square bracktes.\r\n",
        "print(earliest_satellites['Name'])\r\n",
        "#inside the print() function write the string \"Satellites had launched\" to indicate that this satalite had launched recently.\r\n",
        "print(\"Satellites had launched\")"
      ],
      "execution_count": null,
      "outputs": [
        {
          "output_type": "stream",
          "text": [
            "Oldest On : \n",
            "121    8 September 2016, 16:40:00 IST\n",
            "Name: Launch Date, dtype: object\n",
            "121    INSAT-3DR\n",
            "Name: Name, dtype: object\n",
            "Satellites had launched\n"
          ],
          "name": "stdout"
        }
      ]
    }
  ]
}