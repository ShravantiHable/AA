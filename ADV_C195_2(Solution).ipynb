{
  "nbformat": 4,
  "nbformat_minor": 0,
  "metadata": {
    "colab": {
      "name": "ADV_C195.2(Solution).ipynb",
      "provenance": [],
      "authorship_tag": "ABX9TyNYwMTJ8z//vEtF3inViCJn",
      "include_colab_link": true
    },
    "kernelspec": {
      "name": "python3",
      "display_name": "Python 3"
    }
  },
  "cells": [
    {
      "cell_type": "markdown",
      "metadata": {
        "id": "view-in-github",
        "colab_type": "text"
      },
      "source": [
        "<a href=\"https://colab.research.google.com/github/ShravantiHable/AA/blob/main/ADV_C195_2(Solution).ipynb\" target=\"_parent\"><img src=\"https://colab.research.google.com/assets/colab-badge.svg\" alt=\"Open In Colab\"/></a>"
      ]
    },
    {
      "cell_type": "code",
      "metadata": {
        "colab": {
          "base_uri": "https://localhost:8080/",
          "height": 328
        },
        "id": "xcZNYRG0OG9j",
        "outputId": "2b21b8ed-c126-4987-cdde-09ffe724792e"
      },
      "source": [
        "#Additional-Activity-2\r\n",
        "#plot the pie chart showing the percentage of an event occured in a month.\r\n",
        "\r\n",
        "#predefine code\r\n",
        "import pandas as pd\r\n",
        "import matplotlib.pyplot as plt \r\n",
        "\r\n",
        "df = pd.read_csv('https://shravantihable.github.io/AA/austin_weather.csv')\r\n",
        "df\r\n",
        "\r\n",
        "df['month'] = pd.DatetimeIndex(df['Date']).month\r\n",
        "df\r\n",
        "\r\n",
        "group_by_month = df.groupby('Events')['month'].max().reset_index()\r\n",
        "group_by_month\r\n",
        "#predefine code end\r\n",
        "\r\n",
        "#remove the missing values from the dataframe group_by_month. Use the replace() function and update the parameters as\r\n",
        "# \" \" - missing values\r\n",
        "#float(\"NaN\") - replace the missing values with NaN\r\n",
        "#inplace=True - replace the values wherever the NaN values is True\r\n",
        "\r\n",
        "\r\n",
        "\r\n",
        "#apply the dropna() functionality on the group_by_month variable and store it in variable new_df\r\n",
        "\r\n",
        "#call the new_df variable\r\n",
        "\r\n",
        "\r\n",
        "#define a variable value, and inside it store values of month column of new_df data frame.\r\n",
        "\r\n",
        "#define a variable label, and inside it store values of Events column of new_df data frame.\r\n",
        "\r\n",
        "#using the plt.pie() function, and update the parameters for the following:\r\n",
        "#value - which holds the values of month column of new_df data frame\r\n",
        "#labels - which holds the values of Events column of new_df data frame\r\n",
        "#autopct - set the percentage value upto 1 decimal place\r\n",
        "#radius - set the radius of the pie chart\r\n",
        "\r\n",
        "#plt.show()\r\n"
      ],
      "execution_count": 1,
      "outputs": [
        {
          "output_type": "execute_result",
          "data": {
            "text/html": [
              "<div>\n",
              "<style scoped>\n",
              "    .dataframe tbody tr th:only-of-type {\n",
              "        vertical-align: middle;\n",
              "    }\n",
              "\n",
              "    .dataframe tbody tr th {\n",
              "        vertical-align: top;\n",
              "    }\n",
              "\n",
              "    .dataframe thead th {\n",
              "        text-align: right;\n",
              "    }\n",
              "</style>\n",
              "<table border=\"1\" class=\"dataframe\">\n",
              "  <thead>\n",
              "    <tr style=\"text-align: right;\">\n",
              "      <th></th>\n",
              "      <th>Events</th>\n",
              "      <th>month</th>\n",
              "    </tr>\n",
              "  </thead>\n",
              "  <tbody>\n",
              "    <tr>\n",
              "      <th>0</th>\n",
              "      <td></td>\n",
              "      <td>12</td>\n",
              "    </tr>\n",
              "    <tr>\n",
              "      <th>1</th>\n",
              "      <td>Fog</td>\n",
              "      <td>12</td>\n",
              "    </tr>\n",
              "    <tr>\n",
              "      <th>2</th>\n",
              "      <td>Fog , Rain</td>\n",
              "      <td>12</td>\n",
              "    </tr>\n",
              "    <tr>\n",
              "      <th>3</th>\n",
              "      <td>Fog , Rain , Thunderstorm</td>\n",
              "      <td>11</td>\n",
              "    </tr>\n",
              "    <tr>\n",
              "      <th>4</th>\n",
              "      <td>Fog , Thunderstorm</td>\n",
              "      <td>4</td>\n",
              "    </tr>\n",
              "    <tr>\n",
              "      <th>5</th>\n",
              "      <td>Rain</td>\n",
              "      <td>12</td>\n",
              "    </tr>\n",
              "    <tr>\n",
              "      <th>6</th>\n",
              "      <td>Rain , Snow</td>\n",
              "      <td>1</td>\n",
              "    </tr>\n",
              "    <tr>\n",
              "      <th>7</th>\n",
              "      <td>Rain , Thunderstorm</td>\n",
              "      <td>12</td>\n",
              "    </tr>\n",
              "    <tr>\n",
              "      <th>8</th>\n",
              "      <td>Thunderstorm</td>\n",
              "      <td>10</td>\n",
              "    </tr>\n",
              "  </tbody>\n",
              "</table>\n",
              "</div>"
            ],
            "text/plain": [
              "                      Events  month\n",
              "0                                12\n",
              "1                        Fog     12\n",
              "2                 Fog , Rain     12\n",
              "3  Fog , Rain , Thunderstorm     11\n",
              "4         Fog , Thunderstorm      4\n",
              "5                       Rain     12\n",
              "6                Rain , Snow      1\n",
              "7        Rain , Thunderstorm     12\n",
              "8               Thunderstorm     10"
            ]
          },
          "metadata": {
            "tags": []
          },
          "execution_count": 1
        }
      ]
    }
  ]
}