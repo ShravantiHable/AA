{
 "cells": [
  {
   "cell_type": "code",
   "execution_count": 3,
   "metadata": {},
   "outputs": [
    {
     "data": {
      "application/vnd.jupyter.widget-view+json": {
       "model_id": "0e4276f87da442519b459b0b5e130ec6",
       "version_major": 2,
       "version_minor": 0
      },
      "text/plain": [
       "IntText(value=0, description='Text Widget')"
      ]
     },
     "metadata": {},
     "output_type": "display_data"
    },
    {
     "data": {
      "application/vnd.jupyter.widget-view+json": {
       "model_id": "267c48c58dff4849897e6d17690998db",
       "version_major": 2,
       "version_minor": 0
      },
      "text/plain": [
       "IntSlider(value=0, description='Slider')"
      ]
     },
     "metadata": {},
     "output_type": "display_data"
    },
    {
     "data": {
      "application/vnd.jupyter.widget-view+json": {
       "model_id": "566c46a62bc24d04bcc4ce519714ea8a",
       "version_major": 2,
       "version_minor": 0
      },
      "text/plain": [
       "Button(description='power', style=ButtonStyle())"
      ]
     },
     "metadata": {},
     "output_type": "display_data"
    },
    {
     "name": "stdout",
     "output_type": "stream",
     "text": [
      "Power 36\n"
     ]
    }
   ],
   "source": [
    "#Activity 1: using the slider, select a number and display on the text area and find the power of that number.\n",
    "\n",
    "\n",
    "from ipywidgets import widgets\n",
    "txt_widget = widgets.IntText(description=\"Text Widget\")\n",
    "slider_widget= widgets.IntSlider(description=\"Slider\")\n",
    "display(txt_widget,slider_widget)\n",
    "\n",
    "mylink = widgets.jslink((txt_widget, 'value'), (slider_widget, 'value'))\n",
    "\n",
    "def power(b):\n",
    "    power_no= pow(txt_widget.value,2)\n",
    "    print(\"Power\",power_no)\n",
    "    \n",
    "\n",
    "power_btn = widgets.Button(description=\"power\")\n",
    "#now using the variable add_btn which holds the button component, access the on_click() function and inside it pass the function name add_nos\n",
    "power_btn.on_click(power) \n",
    "#using the display() function call the add_btn variable to display the button on the output cell.\n",
    "display(power_btn)"
   ]
  },
  {
   "cell_type": "code",
   "execution_count": 4,
   "metadata": {},
   "outputs": [
    {
     "data": {
      "application/vnd.jupyter.widget-view+json": {
       "model_id": "84805b4d015443f583bfbab4bb5cc405",
       "version_major": 2,
       "version_minor": 0
      },
      "text/plain": [
       "IntText(value=0, description='Text Widget')"
      ]
     },
     "metadata": {},
     "output_type": "display_data"
    },
    {
     "data": {
      "application/vnd.jupyter.widget-view+json": {
       "model_id": "638f7b49f3984d21acd6c52d3ae46fa9",
       "version_major": 2,
       "version_minor": 0
      },
      "text/plain": [
       "IntSlider(value=0, description='Slider')"
      ]
     },
     "metadata": {},
     "output_type": "display_data"
    },
    {
     "data": {
      "application/vnd.jupyter.widget-view+json": {
       "model_id": "a21bb5f9cdc0463fa75e0403f1bf405c",
       "version_major": 2,
       "version_minor": 0
      },
      "text/plain": [
       "Button(description='Square root', style=ButtonStyle())"
      ]
     },
     "metadata": {},
     "output_type": "display_data"
    },
    {
     "name": "stdout",
     "output_type": "stream",
     "text": [
      "Power 2.8284271247461903\n"
     ]
    }
   ],
   "source": [
    "#Activity 2: using the slider, select a number and display on the text area and find the square root of that number.\n",
    "from ipywidgets import widgets\n",
    "import math\n",
    "txt_widget = widgets.IntText(description=\"Text Widget\")\n",
    "slider_widget= widgets.IntSlider(description=\"Slider\")\n",
    "display(txt_widget,slider_widget)\n",
    "\n",
    "\n",
    "mylink = widgets.jslink((txt_widget , 'value'), (slider_widget, 'value'))\n",
    "\n",
    "def sqrt(b):\n",
    "    sqrt= math.sqrt(txt_widget.value)\n",
    "    print(\"Power\",sqrt)\n",
    "    \n",
    "\n",
    "sqrt_btn = widgets.Button(description=\"Square root\")\n",
    "\n",
    "sqrt_btn.on_click(sqrt) \n",
    "display(sqrt_btn)"
   ]
  },
  {
   "cell_type": "code",
   "execution_count": 5,
   "metadata": {},
   "outputs": [
    {
     "data": {
      "application/vnd.jupyter.widget-view+json": {
       "model_id": "1c5f8f5fce624525b75cd436f9e28cef",
       "version_major": 2,
       "version_minor": 0
      },
      "text/plain": [
       "Button(description='File select', style=ButtonStyle())"
      ]
     },
     "metadata": {},
     "output_type": "display_data"
    }
   ],
   "source": [
    "#Activity 3: create the radio buttons to select the x-axis and y-axis values.\n",
    "from IPython.display import display, clear_output\n",
    "import pandas as pd\n",
    "import matplotlib.pyplot as plt \n",
    "\n",
    "\n",
    "\n",
    "def select_cols(b):\n",
    "    df = pd.read_csv(\"percentage.csv\")\n",
    "    print(df)\n",
    "    x= widgets.RadioButtons(options=df.columns, description=\"xaxis_label\")\n",
    "    display(x)\n",
    "    y= widgets.RadioButtons(options=df.columns, description=\"yaxis_label\")\n",
    "    display(y)\n",
    "    \n",
    "fileselect = widgets.Button(description=\"File select\")\n",
    "fileselect.on_click(select_cols)\n",
    "display(fileselect)\n"
   ]
  },
  {
   "cell_type": "code",
   "execution_count": null,
   "metadata": {},
   "outputs": [],
   "source": [
    "#Activity 4: using radio button select columns for x and y axis and plot a bar chart for the same.\n",
    "from IPython.display import display, clear_output\n",
    "import pandas as pd\n",
    "import matplotlib.pyplot as plt \n",
    "\n",
    "\n",
    "df= pd.read_csv(\"percentage.csv\")\n",
    "def select_cols(b):\n",
    "    clear_output()\n",
    "    global df \n",
    "    print(df)\n",
    "    x= widgets.RadioButtons(options=df.columns,description=\"xaxis_label\")\n",
    "    y= widgets.RadioButtons(options=df.columns,description=\"yaxis_label\")\n",
    "    graph=widgets.interactive(plot_graph, x_axis=x, y_axis=y)\n",
    "    display(graph)\n",
    "    \n",
    "fileselect = widgets.Button(description=\"File select\")\n",
    "fileselect.on_click(select_cols)\n",
    "display(fileselect)\n",
    "\n",
    "def plot_graph(x_axis,y_axis):\n",
    "    global df\n",
    "    plt.subplots(figsize=(19,8))\n",
    "    plt.bar(df[x_axis], df[y_axis], color=['red', 'green','blue','yellow','pink'])\n",
    "    plt.xlabel(x_axis)\n",
    "    plt.ylabel(y_axis)\n",
    "    plt.show()\n"
   ]
  },
  {
   "cell_type": "code",
   "execution_count": null,
   "metadata": {},
   "outputs": [],
   "source": [
    "#Activity 5: Create a color picker widget, and apply the picked color to the bar chart.\n",
    "from IPython.display import display, clear_output\n",
    "import pandas as pd\n",
    "import matplotlib.pyplot as plt \n",
    "\n",
    "\n",
    "df = pd.read_csv(\"percentage.csv\")\n",
    "def select_cols(b):\n",
    "    clear_output()\n",
    "    global df\n",
    "    print(df)\n",
    "    x= widgets.RadioButtons(options=df.columns)\n",
    "    y= widgets.RadioButtons(options=df.columns)\n",
    "    c= widgets.ColorPicker(description='Pick a color',value='blue')\n",
    "    graph=widgets.interactive(plot_graph, x_axis=x, y_axis=y, colors=c)\n",
    "    display(graph)\n",
    "    \n",
    "fileselect = widgets.Button(description=\"File select\")\n",
    "fileselect.on_click(select_cols)\n",
    "display(fileselect)\n",
    "\n",
    "def plot_graph(x_axis,y_axis,colors):\n",
    "    plt.subplots(figsize=(19,8))\n",
    "    plt.bar(df[x_axis], df[y_axis], color=colors)\n",
    "    plt.xlabel(x_axis)\n",
    "    plt.ylabel(y_axis)\n",
    "    plt.show()"
   ]
  },
  {
   "cell_type": "code",
   "execution_count": null,
   "metadata": {},
   "outputs": [],
   "source": []
  }
 ],
 "metadata": {
  "kernelspec": {
   "display_name": "Python 3",
   "language": "python",
   "name": "python3"
  },
  "language_info": {
   "codemirror_mode": {
    "name": "ipython",
    "version": 3
   },
   "file_extension": ".py",
   "mimetype": "text/x-python",
   "name": "python",
   "nbconvert_exporter": "python",
   "pygments_lexer": "ipython3",
   "version": "3.8.3"
  }
 },
 "nbformat": 4,
 "nbformat_minor": 4
}
