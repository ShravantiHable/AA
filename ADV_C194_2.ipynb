{
  "nbformat": 4,
  "nbformat_minor": 0,
  "metadata": {
    "colab": {
      "name": "ADV_C194.2.ipynb",
      "provenance": [],
      "collapsed_sections": [],
      "authorship_tag": "ABX9TyNsKEHHe8whtkRvwF1Hpg0+",
      "include_colab_link": true
    },
    "kernelspec": {
      "name": "python3",
      "display_name": "Python 3"
    }
  },
  "cells": [
    {
      "cell_type": "markdown",
      "metadata": {
        "id": "view-in-github",
        "colab_type": "text"
      },
      "source": [
        "<a href=\"https://colab.research.google.com/github/ShravantiHable/AA/blob/main/ADV_C194_2.ipynb\" target=\"_parent\"><img src=\"https://colab.research.google.com/assets/colab-badge.svg\" alt=\"Open In Colab\"/></a>"
      ]
    },
    {
      "cell_type": "code",
      "metadata": {
        "id": "_gegmOosk_lp",
        "colab": {
          "base_uri": "https://localhost:8080/"
        },
        "outputId": "e137aba8-eed8-478d-d66f-8536e97f6254"
      },
      "source": [
        "#Additional-Activty-2\r\n",
        "\r\n",
        "#Plot a pie chart to show out of how many movies are there on netflix as compare to the total number of movies\r\n",
        "#predefine code \r\n",
        "\r\n",
        "import pandas as pd\r\n",
        "import matplotlib.pyplot as plt\r\n",
        "\r\n",
        "df = pd.read_csv('https://shravantihable.github.io/AA/movie_update.csv')\r\n",
        "df\r\n",
        "\r\n",
        "total_movies = df['ID'].count()\r\n",
        "print(\"Total Movies - \", total_movies)\r\n",
        "\r\n",
        "total_netflix_movies = df.loc[df['Netflix'] == 1]\r\n",
        "total_netflix_movies = total_netflix_movies['ID'].count()\r\n",
        "print(\"Total Netflix Movies - \", total_netflix_movies)\r\n",
        "#predefine code end\r\n",
        "#Press shift + enter to run the cell and check what columns are there in dataframe\r\n",
        "\r\n",
        "#to plot the pie chart first define a variable value, and inside it store the variables total_movies,total_netflix_movies holding the total number of movies and total number of netflix movies inside the square brackets.\r\n",
        "\r\n",
        "#then define a variable label, and inside it store the strings as 'total_movies','total_netflix_movies' to give the label to the values of pie chart and write the string inside the square bracktes.\r\n",
        "\r\n",
        "#plot the pie chart using the plt.pie() function and inside the function pass the parameters as\r\n",
        "#value\r\n",
        "#labels\r\n",
        "#autopct upto 1 decimal place\r\n",
        "#radius as 2\r\n",
        "\r\n",
        "plt.show()"
      ],
      "execution_count": 1,
      "outputs": [
        {
          "output_type": "stream",
          "text": [
            "Total Movies -  16744\n",
            "Total Netflix Movies -  3560\n"
          ],
          "name": "stdout"
        }
      ]
    }
  ]
}