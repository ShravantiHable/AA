{
  "nbformat": 4,
  "nbformat_minor": 0,
  "metadata": {
    "colab": {
      "name": "ADV_C201.3.ipynb",
      "provenance": [],
      "collapsed_sections": [],
      "authorship_tag": "ABX9TyNvoKpHFJ7JSnPex/exfRFs",
      "include_colab_link": true
    },
    "kernelspec": {
      "name": "python3",
      "display_name": "Python 3"
    }
  },
  "cells": [
    {
      "cell_type": "markdown",
      "metadata": {
        "id": "view-in-github",
        "colab_type": "text"
      },
      "source": [
        "<a href=\"https://colab.research.google.com/github/ShravantiHable/AA/blob/main/ADV_C201_3.ipynb\" target=\"_parent\"><img src=\"https://colab.research.google.com/assets/colab-badge.svg\" alt=\"Open In Colab\"/></a>"
      ]
    },
    {
      "cell_type": "code",
      "metadata": {
        "id": "ncVTnN-1D_ee"
      },
      "source": [
        "#Activity 3: create the radio buttons to select the x-axis and y-axis values.\r\n",
        "from ipywidgets import widgets\r\n",
        "from IPython.display import display, clear_output\r\n",
        "import pandas as pd\r\n",
        "import matplotlib.pyplot as plt \r\n",
        "\r\n",
        "\r\n",
        "\r\n",
        "def select_cols(b):\r\n",
        "    df = pd.read_csv(\"https://shravantihable.github.io/AA/percentage.csv\")\r\n",
        "    #using the print() function print the df dataframe \r\n",
        "    \r\n",
        "    #define a variable x and inside it store the radio button. For this use the widgets.RadioButtons() function and inside it pass two parameters 1) options as df.columns and set suitable description for the radio button.\r\n",
        "    \r\n",
        "    #now display this radio button stored in x using the display() function\r\n",
        "    \r\n",
        "    #similarly define a variable y and inside it store the radio button widget. For this again use the the widgets.RadioButtons() function and inside it pass two parameters 1) options as df.columns and set suitable description for the radio button.\r\n",
        "  \r\n",
        "    #display this radio button widget present in y variable\r\n",
        " \r\n",
        "\r\n",
        "\r\n",
        "fileselect = widgets.Button(description=\"File select\")\r\n",
        "#now using the variable fileselect  which holds the button component, access the on_click() function and inside it pass the function name select_cols\r\n",
        "\r\n",
        "#using the display() function call the fileselect variable to display the button on the output cell.\r\n"
      ],
      "execution_count": null,
      "outputs": []
    }
  ]
}