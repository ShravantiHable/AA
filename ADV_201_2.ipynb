{
  "nbformat": 4,
  "nbformat_minor": 0,
  "metadata": {
    "colab": {
      "name": "ADV_201.2.ipynb",
      "provenance": [],
      "collapsed_sections": [],
      "authorship_tag": "ABX9TyPxPl8SLWZFwDPC0pBT7NG1",
      "include_colab_link": true
    },
    "kernelspec": {
      "name": "python3",
      "display_name": "Python 3"
    }
  },
  "cells": [
    {
      "cell_type": "markdown",
      "metadata": {
        "id": "view-in-github",
        "colab_type": "text"
      },
      "source": [
        "<a href=\"https://colab.research.google.com/github/ShravantiHable/AA/blob/main/ADV_201_2.ipynb\" target=\"_parent\"><img src=\"https://colab.research.google.com/assets/colab-badge.svg\" alt=\"Open In Colab\"/></a>"
      ]
    },
    {
      "cell_type": "code",
      "metadata": {
        "colab": {
          "base_uri": "https://localhost:8080/",
          "height": 129
        },
        "id": "wtwzNn3zdCky",
        "outputId": "75b25be9-5e73-48c1-94d7-54b28a97a51f"
      },
      "source": [
        "#Activity 1: using the slider, select a number and find the Square Root of that number.\r\n",
        "\r\n",
        "\r\n",
        "from ipywidgets import widgets\r\n",
        "import math\r\n",
        "#create a slider widget using the  widgets.IntSlider and give the suitable description to it.\r\n",
        "\r\n",
        "#display the slider widget on the output cell.\r\n",
        "\r\n",
        "\r\n",
        "\r\n",
        "\r\n",
        "def Sqrt(b):\r\n",
        "  #inside the function define a variable sqrt_no, and inside it find the square root of any slider value. For this, use the math.sqrt() function and inside it pass two arguments, slider_widget.value and the power number.\r\n",
        "    \r\n",
        "    #using print() print the string \"Square root\", followed by variable sqrt_no.\r\n",
        "   \r\n",
        "  \r\n",
        "\r\n",
        "sqrt_btn = widgets.Button(description=\"Square\")\r\n",
        "#now using the variable sqrt_btn which holds the button component, access the on_click() function and inside it pass the function name sqrt\r\n",
        "\r\n",
        "#using the display() function call the sqrt_btn variable to display the button on the output cell.\r\n"
      ],
      "execution_count": 1,
      "outputs": [
        {
          "output_type": "error",
          "ename": "IndentationError",
          "evalue": "ignored",
          "traceback": [
            "\u001b[0;36m  File \u001b[0;32m\"<ipython-input-1-bc61b55ae937>\"\u001b[0;36m, line \u001b[0;32m20\u001b[0m\n\u001b[0;31m    sqrt_btn = widgets.Button(description=\"Square\")\u001b[0m\n\u001b[0m           ^\u001b[0m\n\u001b[0;31mIndentationError\u001b[0m\u001b[0;31m:\u001b[0m expected an indented block\n"
          ]
        }
      ]
    },
    {
      "cell_type": "code",
      "metadata": {
        "id": "hew-Ri_rdXkz"
      },
      "source": [
        ""
      ],
      "execution_count": null,
      "outputs": []
    }
  ]
}