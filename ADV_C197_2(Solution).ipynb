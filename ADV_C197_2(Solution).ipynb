{
  "nbformat": 4,
  "nbformat_minor": 0,
  "metadata": {
    "colab": {
      "name": "ADV-C197.2(Solution).ipynb",
      "provenance": [],
      "collapsed_sections": [],
      "authorship_tag": "ABX9TyNuybK62u88VwGV4uAGcsfC",
      "include_colab_link": true
    },
    "kernelspec": {
      "name": "python3",
      "display_name": "Python 3"
    }
  },
  "cells": [
    {
      "cell_type": "markdown",
      "metadata": {
        "id": "view-in-github",
        "colab_type": "text"
      },
      "source": [
        "<a href=\"https://colab.research.google.com/github/ShravantiHable/AA/blob/main/ADV_C197_2(Solution).ipynb\" target=\"_parent\"><img src=\"https://colab.research.google.com/assets/colab-badge.svg\" alt=\"Open In Colab\"/></a>"
      ]
    },
    {
      "cell_type": "code",
      "metadata": {
        "colab": {
          "base_uri": "https://localhost:8080/",
          "height": 473
        },
        "id": "h0s5j7sM8M8v",
        "outputId": "13e5f5da-893d-45b2-c1cc-c78701fc2c37"
      },
      "source": [
        "#Activity2- change the data type of Windspeed and find maximum windspeed according to month \r\n",
        "#Predefine start\r\n",
        "import pandas as pd\r\n",
        "import matplotlib.pyplot as plt\r\n",
        "import seaborn as sns \r\n",
        "\r\n",
        "df = pd.read_csv('https://shravantihable.github.io/AA/2015_Air_quality_in_northern_Taiwan.csv')\r\n",
        "df\r\n",
        "\r\n",
        "df['month'] = pd.DatetimeIndex(df['time']).month\r\n",
        "df['time_hours'] = pd.DatetimeIndex(df['time']).time\r\n",
        "df\r\n",
        "\r\n",
        "df.replace( '', float('nan') ,inplace=True)\r\n",
        "df.replace( '0', float('nan') ,inplace=True)\r\n",
        "df.replace('.#$', float('nan') ,inplace=True, regex=True)\r\n",
        "df.replace('.x$', float('nan') ,inplace=True, regex=True)\r\n",
        "df = df.dropna()\r\n",
        "df\r\n",
        "#predefined end\r\n",
        "\r\n",
        "#access the column 'WIND_SPEED' of df dataframe, using '.' operator access the astype() function and inside the brackets write float. this will convert the datatype of the 'WIND_SPEED' column to float. And store it inside the df['WIND_SPEED'] column itself\r\n",
        "df['WIND_SPEED'] = df['WIND_SPEED'].astype(float)\r\n",
        "#print df['WIND_SPEED']\r\n",
        "df['WIND_SPEED']\r\n",
        "\r\n",
        "#define a variable new_dataframe, and inside it access the groupby() function using the df variable and inside it write the column names as ['month','time_hours'] and add one more column ['WIND_SPEED'] and using the '.' operator access the max function and reset the index to 0.\r\n",
        "\r\n",
        "new_dataframe = df.groupby(['month','time_hours'])['WIND_SPEED'].max().reset_index()\r\n",
        "#print the variable new_dataframe.\r\n",
        "new_dataframe"
      ],
      "execution_count": 11,
      "outputs": [
        {
          "output_type": "stream",
          "text": [
            "/usr/local/lib/python3.6/dist-packages/IPython/core/interactiveshell.py:2718: DtypeWarning: Columns (10,14,18) have mixed types.Specify dtype option on import or set low_memory=False.\n",
            "  interactivity=interactivity, compiler=compiler, result=result)\n"
          ],
          "name": "stderr"
        },
        {
          "output_type": "execute_result",
          "data": {
            "text/html": [
              "<div>\n",
              "<style scoped>\n",
              "    .dataframe tbody tr th:only-of-type {\n",
              "        vertical-align: middle;\n",
              "    }\n",
              "\n",
              "    .dataframe tbody tr th {\n",
              "        vertical-align: top;\n",
              "    }\n",
              "\n",
              "    .dataframe thead th {\n",
              "        text-align: right;\n",
              "    }\n",
              "</style>\n",
              "<table border=\"1\" class=\"dataframe\">\n",
              "  <thead>\n",
              "    <tr style=\"text-align: right;\">\n",
              "      <th></th>\n",
              "      <th>month</th>\n",
              "      <th>time_hours</th>\n",
              "      <th>WIND_SPEED</th>\n",
              "    </tr>\n",
              "  </thead>\n",
              "  <tbody>\n",
              "    <tr>\n",
              "      <th>0</th>\n",
              "      <td>1</td>\n",
              "      <td>05:00:00</td>\n",
              "      <td>1.1</td>\n",
              "    </tr>\n",
              "    <tr>\n",
              "      <th>1</th>\n",
              "      <td>1</td>\n",
              "      <td>06:00:00</td>\n",
              "      <td>2.4</td>\n",
              "    </tr>\n",
              "    <tr>\n",
              "      <th>2</th>\n",
              "      <td>1</td>\n",
              "      <td>07:00:00</td>\n",
              "      <td>4.3</td>\n",
              "    </tr>\n",
              "    <tr>\n",
              "      <th>3</th>\n",
              "      <td>1</td>\n",
              "      <td>08:00:00</td>\n",
              "      <td>4.2</td>\n",
              "    </tr>\n",
              "    <tr>\n",
              "      <th>4</th>\n",
              "      <td>1</td>\n",
              "      <td>09:00:00</td>\n",
              "      <td>4.6</td>\n",
              "    </tr>\n",
              "    <tr>\n",
              "      <th>...</th>\n",
              "      <td>...</td>\n",
              "      <td>...</td>\n",
              "      <td>...</td>\n",
              "    </tr>\n",
              "    <tr>\n",
              "      <th>159</th>\n",
              "      <td>12</td>\n",
              "      <td>13:00:00</td>\n",
              "      <td>5.1</td>\n",
              "    </tr>\n",
              "    <tr>\n",
              "      <th>160</th>\n",
              "      <td>12</td>\n",
              "      <td>14:00:00</td>\n",
              "      <td>4.2</td>\n",
              "    </tr>\n",
              "    <tr>\n",
              "      <th>161</th>\n",
              "      <td>12</td>\n",
              "      <td>15:00:00</td>\n",
              "      <td>3.9</td>\n",
              "    </tr>\n",
              "    <tr>\n",
              "      <th>162</th>\n",
              "      <td>12</td>\n",
              "      <td>16:00:00</td>\n",
              "      <td>4.4</td>\n",
              "    </tr>\n",
              "    <tr>\n",
              "      <th>163</th>\n",
              "      <td>12</td>\n",
              "      <td>17:00:00</td>\n",
              "      <td>3.0</td>\n",
              "    </tr>\n",
              "  </tbody>\n",
              "</table>\n",
              "<p>164 rows × 3 columns</p>\n",
              "</div>"
            ],
            "text/plain": [
              "     month time_hours  WIND_SPEED\n",
              "0        1   05:00:00         1.1\n",
              "1        1   06:00:00         2.4\n",
              "2        1   07:00:00         4.3\n",
              "3        1   08:00:00         4.2\n",
              "4        1   09:00:00         4.6\n",
              "..     ...        ...         ...\n",
              "159     12   13:00:00         5.1\n",
              "160     12   14:00:00         4.2\n",
              "161     12   15:00:00         3.9\n",
              "162     12   16:00:00         4.4\n",
              "163     12   17:00:00         3.0\n",
              "\n",
              "[164 rows x 3 columns]"
            ]
          },
          "metadata": {
            "tags": []
          },
          "execution_count": 11
        }
      ]
    },
    {
      "cell_type": "code",
      "metadata": {
        "id": "khZCusoD-6p_"
      },
      "source": [
        "\r\n"
      ],
      "execution_count": 10,
      "outputs": []
    },
    {
      "cell_type": "code",
      "metadata": {
        "id": "oo08JGa8_c9x"
      },
      "source": [
        ""
      ],
      "execution_count": null,
      "outputs": []
    }
  ]
}