{
  "nbformat": 4,
  "nbformat_minor": 0,
  "metadata": {
    "colab": {
      "name": "ADV_C201.1.ipynb",
      "provenance": [],
      "collapsed_sections": [],
      "authorship_tag": "ABX9TyNnM8Jpd90YYDWD8zR5Q26R",
      "include_colab_link": true
    },
    "kernelspec": {
      "name": "python3",
      "display_name": "Python 3"
    }
  },
  "cells": [
    {
      "cell_type": "markdown",
      "metadata": {
        "id": "view-in-github",
        "colab_type": "text"
      },
      "source": [
        "<a href=\"https://colab.research.google.com/github/ShravantiHable/AA/blob/main/ADV_C201_1.ipynb\" target=\"_parent\"><img src=\"https://colab.research.google.com/assets/colab-badge.svg\" alt=\"Open In Colab\"/></a>"
      ]
    },
    {
      "cell_type": "code",
      "metadata": {
        "colab": {
          "base_uri": "https://localhost:8080/",
          "height": 129
        },
        "id": "VJGJe5Q89b-h",
        "outputId": "80f4fe83-2d24-49fb-95c0-95ea087e86a1"
      },
      "source": [
        "#Activity 1: using the slider, select a number and find the power of that number.\r\n",
        "\r\n",
        "\r\n",
        "from ipywidgets import widgets\r\n",
        "slider_widget= widgets.IntSlider(description=\"Slider\")\r\n",
        "#display the slider widget on the output cell.\r\n",
        "\r\n",
        "\r\n",
        "\r\n",
        "\r\n",
        "def power(b):\r\n",
        "  #inside the function define a variable power_no, and inside it find the power of any slider value. For this, use the pow() function and inside it pass two arguments, slider_widget.value and the power number. For example, slider_widget.value, 2\r\n",
        "    \r\n",
        "    #using print() print the string \"Power\", followed by variable power_no.\r\n",
        "    \r\n",
        "    \r\n",
        "\r\n",
        "power_btn = widgets.Button(description=\"power\")\r\n",
        "#now using the variable power_btn which holds the button component, access the on_click() function and inside it pass the function name power\r\n",
        "\r\n",
        "#using the display() function call the power_btn variable to display the button on the output cell.\r\n"
      ],
      "execution_count": 6,
      "outputs": [
        {
          "output_type": "error",
          "ename": "IndentationError",
          "evalue": "ignored",
          "traceback": [
            "\u001b[0;36m  File \u001b[0;32m\"<ipython-input-6-ccc80d21d3cc>\"\u001b[0;36m, line \u001b[0;32m18\u001b[0m\n\u001b[0;31m    power_btn = widgets.Button(description=\"power\")\u001b[0m\n\u001b[0m            ^\u001b[0m\n\u001b[0;31mIndentationError\u001b[0m\u001b[0;31m:\u001b[0m expected an indented block\n"
          ]
        }
      ]
    },
    {
      "cell_type": "code",
      "metadata": {
        "id": "BEshxUul9l5o"
      },
      "source": [
        ""
      ],
      "execution_count": null,
      "outputs": []
    },
    {
      "cell_type": "code",
      "metadata": {
        "id": "kXrfA0SBwOib"
      },
      "source": [
        ""
      ],
      "execution_count": null,
      "outputs": []
    }
  ]
}