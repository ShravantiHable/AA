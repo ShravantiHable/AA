{
  "nbformat": 4,
  "nbformat_minor": 0,
  "metadata": {
    "colab": {
      "name": "ADV_C191.2(Solution).ipynb",
      "provenance": [],
      "authorship_tag": "ABX9TyMs6Ze3WvLicWODAqpSuz2R",
      "include_colab_link": true
    },
    "kernelspec": {
      "name": "python3",
      "display_name": "Python 3"
    }
  },
  "cells": [
    {
      "cell_type": "markdown",
      "metadata": {
        "id": "view-in-github",
        "colab_type": "text"
      },
      "source": [
        "<a href=\"https://colab.research.google.com/github/ShravantiHable/AA/blob/main/ADV_C191_2(Solution).ipynb\" target=\"_parent\"><img src=\"https://colab.research.google.com/assets/colab-badge.svg\" alt=\"Open In Colab\"/></a>"
      ]
    },
    {
      "cell_type": "code",
      "metadata": {
        "colab": {
          "base_uri": "https://localhost:8080/",
          "height": 737
        },
        "id": "jhl-OiToKCLE",
        "outputId": "ffc3c778-85b9-458c-e577-603299eeb177"
      },
      "source": [
        "#Addition-Activity-2\r\n",
        "#Plot a bar graph to show the number of successful missions of the companies\r\n",
        "\r\n",
        "#predefine start\r\n",
        "import pandas as pd \r\n",
        "import matplotlib .pyplot as plt\r\n",
        "\r\n",
        "dataframe = pd.read_csv(\"https://shravantihable.github.io/AA/AA's/Space_Corrected.csv\")\r\n",
        "df=dataframe.dropna()\r\n",
        "df\r\n",
        "\r\n",
        "group_by_success= df.loc[df['Status Mission'] == 'Success']\r\n",
        "group_by_success\r\n",
        "count_success = group_by_success.groupby('Company Name')['Status Mission'].count().reset_index(name='Status')\r\n",
        "count_success\r\n",
        "print(count_success)\r\n",
        "\r\n",
        "#predefine end\r\n",
        "\r\n",
        "#In the previous AA that is ADV-C191.1, we have calculated the total number of successfull missions as per the company. In this AA, we will plot the bar graph to show the number of successful missions of the companies.\r\n",
        "# give the name to the x axis as \"Company Name\" using the plt.xlabel() function.\r\n",
        "plt.xlabel(\"Company Name\")\r\n",
        "#to make the xlabels appear vertically, set the rotation as 'vertical' using the plt.xticks() function.\r\n",
        "plt.xticks(rotation='vertical')\r\n",
        "#give the name to the y axis as \"Number Of Activie Rockets\" using the plt.ylabel() function.\r\n",
        "plt.ylabel(\"Number Of Activie Rockets\")\r\n",
        "\r\n",
        "\r\n",
        "#define a variable label and inside it store the company names present in the 'Company Name' column which are present inside the count_success variable.\r\n",
        "label = count_success['Company Name']\r\n",
        "#define a variable value and inside it store the total number of status present in the 'Status' column of the variable count_success.\r\n",
        "value = count_success['Status']\r\n",
        "#plot the bar graph using the plt.bar() function. And set the parameters of the plt.bar() function in the given order:\r\n",
        "#label\r\n",
        "#value\r\n",
        "#set width\r\n",
        "#set colors as per your choice\r\n",
        "plt.bar(label, value,width=0.4, color=('red','blue','green','pink','yellow')) #bar-grap"
      ],
      "execution_count": null,
      "outputs": [
        {
          "output_type": "stream",
          "text": [
            "       Company Name  Status\n",
            "0       Arianespace      93\n",
            "1            Boeing       6\n",
            "2              CASC     152\n",
            "3               ESA       1\n",
            "4          Eurockot      12\n",
            "5               ILS      13\n",
            "6              ISRO      59\n",
            "7              JAXA       3\n",
            "8         Kosmotras      21\n",
            "9          Lockheed       8\n",
            "10              MHI      37\n",
            "11  Martin Marietta       7\n",
            "12             NASA     146\n",
            "13         Northrop      74\n",
            "14        RVSN USSR       2\n",
            "15       Rocket Lab      11\n",
            "16        Roscosmos      22\n",
            "17           SpaceX      93\n",
            "18              ULA      97\n",
            "19     US Air Force      23\n",
            "20           VKS RF      30\n"
          ],
          "name": "stdout"
        },
        {
          "output_type": "execute_result",
          "data": {
            "text/plain": [
              "<BarContainer object of 21 artists>"
            ]
          },
          "metadata": {
            "tags": []
          },
          "execution_count": 1
        },
        {
          "output_type": "display_data",
          "data": {
            "image/png": "[encoded data removed]",
            "text/plain": [
              "<Figure size 432x288 with 1 Axes>"
            ]
          },
          "metadata": {
            "tags": [],
            "needs_background": "light"
          }
        }
      ]
    }
  ]
}