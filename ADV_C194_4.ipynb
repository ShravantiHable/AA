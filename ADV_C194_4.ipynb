{
  "nbformat": 4,
  "nbformat_minor": 0,
  "metadata": {
    "colab": {
      "name": "ADV_C194.4.ipynb",
      "provenance": [],
      "collapsed_sections": [],
      "authorship_tag": "ABX9TyMcbZ636Cj+Rwi08AAwteHX",
      "include_colab_link": true
    },
    "kernelspec": {
      "name": "python3",
      "display_name": "Python 3"
    }
  },
  "cells": [
    {
      "cell_type": "markdown",
      "metadata": {
        "id": "view-in-github",
        "colab_type": "text"
      },
      "source": [
        "<a href=\"https://colab.research.google.com/github/ShravantiHable/AA/blob/main/ADV_C194_4.ipynb\" target=\"_parent\"><img src=\"https://colab.research.google.com/assets/colab-badge.svg\" alt=\"Open In Colab\"/></a>"
      ]
    },
    {
      "cell_type": "code",
      "metadata": {
        "id": "uYoLIS5RxrNk"
      },
      "source": [
        "#Additional-Activty-4\r\n",
        "\r\n",
        "#predefine code\r\n",
        "import pandas as pd\r\n",
        "import matplotlib.pyplot as plt\r\n",
        "df = pd.read_csv('https://shravantihable.github.io/AA/movie_update.csv')\r\n",
        "df\r\n",
        "\r\n",
        "group_by_country = df.groupby('Country')['Title'].count().reset_index()\r\n",
        "group_by_country\r\n",
        "\r\n",
        "sorted_df = group_by_country.sort_values(by=['Title'], ascending = False)\r\n",
        "sorted_df\r\n",
        "#predefine code end\r\n",
        "\r\n",
        "#from the dataframe sorted_df retrive the 5 rows uwing the head() function and store it in variable top_5\r\n",
        "\r\n",
        "#print the variable top_5\r\n",
        "\r\n",
        "\r\n",
        "#using plt.figure() set thw figsize of the plot as (20, 8)\r\n",
        "\r\n",
        "\r\n",
        "#using the plt.scatter() plot the scatter function with following parameters\r\n",
        "#top_5['Country']-to retrive the 'Country' column values present in variable top_5\r\n",
        "#top_5['Title']- to retrive the 'Country' column values present in variable top_5\r\n",
        "#color\r\n",
        "#label as 'Number of movies'\r\n",
        "#alpha = 0.5 - to make the bubble slightly solid in color.\r\n",
        "#s= top['Title'] - 's' stands for size of the bubble, it starts increasing as per the number of movies in 'Title' column. \r\n",
        "\r\n",
        "\r\n",
        "\r\n",
        "# using the plt.xticks() function add the rotation parameter as 'vertical'\r\n",
        "\r\n",
        "#plot the legend using the plt.legend() function\r\n",
        "\r\n",
        "# using the plt.xlabel() function set the label as \"Country\", with size as 14\r\n",
        "\r\n",
        "# using the plt.ylabel() function set the label as \"Number of movies\", with size as 14\r\n",
        "\r\n",
        "\r\n"
      ],
      "execution_count": null,
      "outputs": []
    }
  ]
}