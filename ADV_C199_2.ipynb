{
  "nbformat": 4,
  "nbformat_minor": 0,
  "metadata": {
    "colab": {
      "name": "ADV_C199.2.ipynb",
      "provenance": [],
      "collapsed_sections": [],
      "authorship_tag": "ABX9TyPObv6f2rBs/fwM4O0ldY/l",
      "include_colab_link": true
    },
    "kernelspec": {
      "name": "python3",
      "display_name": "Python 3"
    }
  },
  "cells": [
    {
      "cell_type": "markdown",
      "metadata": {
        "id": "view-in-github",
        "colab_type": "text"
      },
      "source": [
        "<a href=\"https://colab.research.google.com/github/ShravantiHable/AA/blob/main/ADV_C199_2.ipynb\" target=\"_parent\"><img src=\"https://colab.research.google.com/assets/colab-badge.svg\" alt=\"Open In Colab\"/></a>"
      ]
    },
    {
      "cell_type": "code",
      "metadata": {
        "id": "aGAmETivP7xO"
      },
      "source": [
        "#AA2- create 2 dropdown and the values of this drop down will be the the list values respectively\r\n",
        "#predefine code\r\n",
        "from ipywidgets import widgets\r\n",
        "from IPython.display import display, clear_output\r\n",
        "import numpy as np\r\n",
        "\r\n",
        "List1=np.arange(1,51,1)\r\n",
        "List2=np.arange(1,51,1)\r\n",
        "\r\n",
        "#predefined end\r\n",
        "\r\n",
        "#define a variable dropdown1, and inside it store a dropdown widget. So to create a dropdown widget, use the widgets.Dropdown() function, and inside this function pass two parameters \r\n",
        "#options= , and store the variable List1 which holds the list of numbers from 1 to 50.\r\n",
        "#description= ,this holds a string 'List 1' to represent the dropdown.\r\n",
        "\r\n",
        "#call the function display() to display the drop down in the output cell, and inside it store the variable dropdown1, which holds the drop down widget.\r\n",
        "\r\n",
        "#similarly create one more dropdown widget  dropdown2 using the widgets.Dropdown() function, and inside it pass List2 as the value to parameter, and string 'List 2' as description to dropdown2\r\n",
        "\r\n",
        "#call the function display() to display the drop down in the output cell, and inside it store the variable dropdown2, which holds the drop down widget.\r\n",
        "  \r\n"
      ],
      "execution_count": null,
      "outputs": []
    }
  ]
}