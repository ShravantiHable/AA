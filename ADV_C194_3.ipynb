{
  "nbformat": 4,
  "nbformat_minor": 0,
  "metadata": {
    "colab": {
      "name": "ADV_C194.3.ipynb",
      "provenance": [],
      "collapsed_sections": [],
      "authorship_tag": "ABX9TyNeZnKPEgkmObn3wMouYemV",
      "include_colab_link": true
    },
    "kernelspec": {
      "name": "python3",
      "display_name": "Python 3"
    }
  },
  "cells": [
    {
      "cell_type": "markdown",
      "metadata": {
        "id": "view-in-github",
        "colab_type": "text"
      },
      "source": [
        "<a href=\"https://colab.research.google.com/github/ShravantiHable/AA/blob/main/ADV_C194_3.ipynb\" target=\"_parent\"><img src=\"https://colab.research.google.com/assets/colab-badge.svg\" alt=\"Open In Colab\"/></a>"
      ]
    },
    {
      "cell_type": "code",
      "metadata": {
        "id": "K3MTN8jGnpfg"
      },
      "source": [
        "#Additional-Activty-3\r\n",
        "#Get the total number of movies based on the coountries\r\n",
        "#predefine code\r\n",
        "import pandas as pd\r\n",
        "import matplotlib.pyplot as plt\r\n",
        "df = pd.read_csv('https://shravantihable.github.io/AA/movie_update.csv')\r\n",
        "df\r\n",
        "#predefine code end\r\n",
        "\r\n",
        "#using the df.groupby() function, group the values of the 'Country' column to get the total movies based on the country, then add a column 'Title' inside the square brackets and apply the count function on it, and reset the index to 0 and store it in variable group_by_country.\r\n",
        "\r\n",
        "#print the variable group_by_country\r\n",
        "\r\n",
        "#then sort the values of the variable group_by_country using the sort_values()function, and inside the sort_values() add the parameter as by=['Title'] and followed by comma, add one more parameter as ascending=False, and store it in variable sorted_df\r\n",
        "\r\n",
        "#print the variable sorted_df\r\n",
        "\r\n"
      ],
      "execution_count": null,
      "outputs": []
    }
  ]
}