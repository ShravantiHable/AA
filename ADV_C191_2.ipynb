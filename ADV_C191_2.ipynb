{
  "nbformat": 4,
  "nbformat_minor": 0,
  "metadata": {
    "colab": {
      "name": "ADV_C191.2.ipynb",
      "provenance": [],
      "collapsed_sections": [],
      "authorship_tag": "ABX9TyNZVKs1CdGXI+XgoGKLtpbf",
      "include_colab_link": true
    },
    "kernelspec": {
      "name": "python3",
      "display_name": "Python 3"
    }
  },
  "cells": [
    {
      "cell_type": "markdown",
      "metadata": {
        "id": "view-in-github",
        "colab_type": "text"
      },
      "source": [
        "<a href=\"https://colab.research.google.com/github/ShravantiHable/AA/blob/main/ADV_C191_2.ipynb\" target=\"_parent\"><img src=\"https://colab.research.google.com/assets/colab-badge.svg\" alt=\"Open In Colab\"/></a>"
      ]
    },
    {
      "cell_type": "code",
      "metadata": {
        "id": "Hh-FZAhpJ4XE"
      },
      "source": [
        "#Addition-Activity-2\r\n",
        "#Plot a bar graph to show the number of successful missions of the companies\r\n",
        "\r\n",
        "\r\n",
        "import pandas as pd \r\n",
        "import matplotlib .pyplot as plt\r\n",
        "\r\n",
        "dataframe = pd.read_csv(\"https://shravantihable.github.io/AA/AA's/Space_Corrected.csv\")\r\n",
        "df=dataframe.dropna()\r\n",
        "df\r\n",
        "\r\n",
        "group_by_success= df.loc[df['Status Mission'] == 'Success']\r\n",
        "group_by_success\r\n",
        "count_success = group_by_success.groupby('Company Name')['Status Mission'].count().reset_index(name='Status')\r\n",
        "count_success\r\n",
        "print(count_success)\r\n",
        "\r\n",
        "\r\n",
        "\r\n",
        "#In the previous AA that is ADV-C191.1, we have calculated the total number of successfull missions as per the company. In this AA, we will plot the bar graph to show the number of successful missions of the companies.\r\n",
        "# give the name to the x axis as \"Company Name\" using the plt.xlabel() function.\r\n",
        "\r\n",
        "#to make the xlabels appear vertically, set the rotation as 'vertical' using the plt.xticks() function.\r\n",
        "\r\n",
        "#give the name to the y axis as \"Number Of Activie Rockets\" using the plt.ylabel() function.\r\n",
        "\r\n",
        "\r\n",
        "\r\n",
        "#define a variable label and inside it store the company names present in the 'Company Name' column which are present inside the count_success variable.\r\n",
        "\r\n",
        "#define a variable value and inside it store the total number of status present in the 'Status' column of the variable count_success.\r\n",
        "\r\n",
        "#plot the bar graph using the plt.bar() function. And set the parameters of the plt.bar() function in the given order:\r\n",
        "#label\r\n",
        "#value\r\n",
        "#width=0.4\r\n",
        "#color=('red','blue','green','pink','yellow')\r\n",
        "#bar-grap"
      ],
      "execution_count": null,
      "outputs": []
    }
  ]
}