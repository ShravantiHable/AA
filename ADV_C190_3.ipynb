{
  "nbformat": 4,
  "nbformat_minor": 0,
  "metadata": {
    "colab": {
      "name": "ADV_C190.3.ipynb",
      "provenance": [],
      "collapsed_sections": [],
      "authorship_tag": "ABX9TyOOjo06OTycUcRHpNvgxwZw",
      "include_colab_link": true
    },
    "kernelspec": {
      "name": "python3",
      "display_name": "Python 3"
    }
  },
  "cells": [
    {
      "cell_type": "markdown",
      "metadata": {
        "id": "view-in-github",
        "colab_type": "text"
      },
      "source": [
        "<a href=\"https://colab.research.google.com/github/ShravantiHable/AA/blob/main/ADV_C190_3.ipynb\" target=\"_parent\"><img src=\"https://colab.research.google.com/assets/colab-badge.svg\" alt=\"Open In Colab\"/></a>"
      ]
    },
    {
      "cell_type": "code",
      "metadata": {
        "id": "ePGh1t736pRc"
      },
      "source": [
        "#Additional-Activity-3\r\n",
        "#The \"Launch Mass.csv\" file is sorted in ascending order\r\n",
        "#Read the csv such that you get the 5 least heavy Launch Vehicle name and they weight and convert it into list and print them\r\n",
        "\r\n",
        "#predefine code\r\n",
        "import pandas as pd\r\n",
        "from matplotlib import pyplot as plt\r\n",
        "df = pd.read_csv('https://shravantihable.github.io/AA/Launch%20Mass.csv')\r\n",
        "df\r\n",
        "#predefine code end\r\n",
        "\r\n",
        "#from the dataframe df retrive the first five rows using the head() function and store it in variable recent_satellites least_heavy_5\r\n",
        "\r\n",
        "\r\n",
        "#retrive the values of the column 'Launch Mass' which is present in the least_heavy_5. And convert it into list using tolist() function and store it in a in variable mass.\r\n",
        "\r\n",
        "\r\n",
        "#retrive the values of the column 'Launch Vehicle' which is present in the least_heavy_5. And convert it into list using tolist() function and store it in a in variable launch_vehicle.\r\n",
        "\r\n",
        "\r\n",
        "#print the variable mass which contains the list of vehical mass present in the Launch Mass column.\r\n",
        "\r\n",
        "#print the variable mass which contains the list of vehicals present in the Launch Vehicle column.\r\n",
        "\r\n"
      ],
      "execution_count": null,
      "outputs": []
    }
  ]
}