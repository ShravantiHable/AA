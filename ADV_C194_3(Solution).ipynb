{
  "nbformat": 4,
  "nbformat_minor": 0,
  "metadata": {
    "colab": {
      "name": "ADV_C194.3(Solution).ipynb",
      "provenance": [],
      "collapsed_sections": [],
      "authorship_tag": "ABX9TyNpcHZyvNyDNCT3mW2LVVFw",
      "include_colab_link": true
    },
    "kernelspec": {
      "name": "python3",
      "display_name": "Python 3"
    }
  },
  "cells": [
    {
      "cell_type": "markdown",
      "metadata": {
        "id": "view-in-github",
        "colab_type": "text"
      },
      "source": [
        "<a href=\"https://colab.research.google.com/github/ShravantiHable/AA/blob/main/ADV_C194_3(Solution).ipynb\" target=\"_parent\"><img src=\"https://colab.research.google.com/assets/colab-badge.svg\" alt=\"Open In Colab\"/></a>"
      ]
    },
    {
      "cell_type": "code",
      "metadata": {
        "colab": {
          "base_uri": "https://localhost:8080/",
          "height": 419
        },
        "id": "OyMih3Aalq6Z",
        "outputId": "9c4abc34-54cf-4292-cfe1-caf4fdc4cc07"
      },
      "source": [
        "#Additional-Activty-3\r\n",
        "#Get the total number of movies based on the coountries\r\n",
        "#predefine code\r\n",
        "import pandas as pd\r\n",
        "import matplotlib.pyplot as plt\r\n",
        "df = pd.read_csv('https://shravantihable.github.io/AA/movie_update.csv')\r\n",
        "df\r\n",
        "#predefine code end\r\n",
        "\r\n",
        "#using the df.groupby() function, group the values of the 'Country' column to get the total movies based on the country, then add a column 'Title' inside the square brackets and apply the count function on it, and reset the index to 0 and store it in variable group_by_country.\r\n",
        "group_by_country = df.groupby('Country')['Title'].count().reset_index()\r\n",
        "#print the variable group_by_country\r\n",
        "group_by_country\r\n",
        "#then sort the values of the variable group_by_country using the sort_values()function, and inside the sort_values() add the parameter as by=['Title'] and followed by comma, add one more parameter as ascending=False, and store it in variable sorted_df\r\n",
        "sorted_df = group_by_country.sort_values(by=['Title'], ascending = False)\r\n",
        "#print the variable sorted_df\r\n",
        "sorted_df\r\n"
      ],
      "execution_count": 1,
      "outputs": [
        {
          "output_type": "execute_result",
          "data": {
            "text/html": [
              "<div>\n",
              "<style scoped>\n",
              "    .dataframe tbody tr th:only-of-type {\n",
              "        vertical-align: middle;\n",
              "    }\n",
              "\n",
              "    .dataframe tbody tr th {\n",
              "        vertical-align: top;\n",
              "    }\n",
              "\n",
              "    .dataframe thead th {\n",
              "        text-align: right;\n",
              "    }\n",
              "</style>\n",
              "<table border=\"1\" class=\"dataframe\">\n",
              "  <thead>\n",
              "    <tr style=\"text-align: right;\">\n",
              "      <th></th>\n",
              "      <th>Country</th>\n",
              "      <th>Title</th>\n",
              "    </tr>\n",
              "  </thead>\n",
              "  <tbody>\n",
              "    <tr>\n",
              "      <th>1059</th>\n",
              "      <td>United States</td>\n",
              "      <td>8776</td>\n",
              "    </tr>\n",
              "    <tr>\n",
              "      <th>477</th>\n",
              "      <td>India</td>\n",
              "      <td>1064</td>\n",
              "    </tr>\n",
              "    <tr>\n",
              "      <th>908</th>\n",
              "      <td>United Kingdom</td>\n",
              "      <td>905</td>\n",
              "    </tr>\n",
              "    <tr>\n",
              "      <th>117</th>\n",
              "      <td>Canada</td>\n",
              "      <td>555</td>\n",
              "    </tr>\n",
              "    <tr>\n",
              "      <th>34</th>\n",
              "      <td>Australia</td>\n",
              "      <td>202</td>\n",
              "    </tr>\n",
              "    <tr>\n",
              "      <th>...</th>\n",
              "      <td>...</td>\n",
              "      <td>...</td>\n",
              "    </tr>\n",
              "    <tr>\n",
              "      <th>507</th>\n",
              "      <td>Ireland,Australia</td>\n",
              "      <td>1</td>\n",
              "    </tr>\n",
              "    <tr>\n",
              "      <th>508</th>\n",
              "      <td>Ireland,Belgium,France,Luxembourg,United Kingdom</td>\n",
              "      <td>1</td>\n",
              "    </tr>\n",
              "    <tr>\n",
              "      <th>509</th>\n",
              "      <td>Ireland,Belgium,United States</td>\n",
              "      <td>1</td>\n",
              "    </tr>\n",
              "    <tr>\n",
              "      <th>511</th>\n",
              "      <td>Ireland,Canada,Luxembourg,United States,United...</td>\n",
              "      <td>1</td>\n",
              "    </tr>\n",
              "    <tr>\n",
              "      <th>1302</th>\n",
              "      <td>Zambia,Sweden</td>\n",
              "      <td>1</td>\n",
              "    </tr>\n",
              "  </tbody>\n",
              "</table>\n",
              "<p>1303 rows × 2 columns</p>\n",
              "</div>"
            ],
            "text/plain": [
              "                                                Country  Title\n",
              "1059                                      United States   8776\n",
              "477                                               India   1064\n",
              "908                                      United Kingdom    905\n",
              "117                                              Canada    555\n",
              "34                                            Australia    202\n",
              "...                                                 ...    ...\n",
              "507                                   Ireland,Australia      1\n",
              "508    Ireland,Belgium,France,Luxembourg,United Kingdom      1\n",
              "509                       Ireland,Belgium,United States      1\n",
              "511   Ireland,Canada,Luxembourg,United States,United...      1\n",
              "1302                                      Zambia,Sweden      1\n",
              "\n",
              "[1303 rows x 2 columns]"
            ]
          },
          "metadata": {
            "tags": []
          },
          "execution_count": 1
        }
      ]
    }
  ]
}