{
  "nbformat": 4,
  "nbformat_minor": 0,
  "metadata": {
    "colab": {
      "name": "ADV_C196.3(Solution).ipynb",
      "provenance": [],
      "collapsed_sections": [],
      "authorship_tag": "ABX9TyM1teSHxbhMiLB78YgZnEPl",
      "include_colab_link": true
    },
    "kernelspec": {
      "name": "python3",
      "display_name": "Python 3"
    }
  },
  "cells": [
    {
      "cell_type": "markdown",
      "metadata": {
        "id": "view-in-github",
        "colab_type": "text"
      },
      "source": [
        "<a href=\"https://colab.research.google.com/github/ShravantiHable/AA/blob/main/ADV_C196_3(Solution).ipynb\" target=\"_parent\"><img src=\"https://colab.research.google.com/assets/colab-badge.svg\" alt=\"Open In Colab\"/></a>"
      ]
    },
    {
      "cell_type": "code",
      "metadata": {
        "colab": {
          "base_uri": "https://localhost:8080/"
        },
        "id": "YWZ9ShY7iuK_",
        "outputId": "8839b30a-740b-4f38-8e00-c58d688b0345"
      },
      "source": [
        "#Additional Activity 3\r\n",
        "#filter the passengers who survived in the Titanic ship and group by age and count the names of the people in that age group.\r\n",
        "#predefine code\r\n",
        "#import the required packages \r\n",
        "import pandas as pd\r\n",
        "import matplotlib.pyplot as plt\r\n",
        "#Read the csv file.\r\n",
        "df = pd.read_csv(\"https://shravantihable.github.io/AA/titanic_crew_info.csv\")\r\n",
        "df\r\n",
        "#predefine code end\r\n",
        "\r\n",
        "#using the df dataframe, acess the dropna() funciton and store it in variable df\r\n",
        "df = df.dropna()\r\n",
        "#print the df variable\r\n",
        "df\r\n",
        "\r\n",
        "#inside the print() function write the string as \"Total crew - \"\r\n",
        "print(\"Total crew - \")\r\n",
        "#inside the print(), access the 'Name' column of df dataframe and apply the count() functionality on it\r\n",
        "print(df['Name'].count())\r\n",
        "\r\n",
        "#using the df variable access the loc[] function and inside it access the 'Survived' column of the df dataframe and check if the values are equal to 1.0 and store the dataframe into variable new_df.\r\n",
        "new_df = df.loc[df['Survived'] == 1.0]\r\n",
        "##inside the print() function write the string as \"\"Total Survived crew - \"\r\n",
        "print(\"Total Survived crew - \")\r\n",
        "#inside the print(), access the 'Survived' column of new_df dataframe and apply the count() functionality on it\r\n",
        "print(new_df['Survived'].count())"
      ],
      "execution_count": 2,
      "outputs": [
        {
          "output_type": "stream",
          "text": [
            "Total crew - \n",
            "272\n",
            "Total Survived crew - \n",
            "202\n"
          ],
          "name": "stdout"
        }
      ]
    }
  ]
}