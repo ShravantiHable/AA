{
  "nbformat": 4,
  "nbformat_minor": 0,
  "metadata": {
    "colab": {
      "name": "ADV_C190.2.ipynb",
      "provenance": [],
      "collapsed_sections": [],
      "authorship_tag": "ABX9TyOKQsLo4bW3gXeoyOizwRNH",
      "include_colab_link": true
    },
    "kernelspec": {
      "name": "python3",
      "display_name": "Python 3"
    }
  },
  "cells": [
    {
      "cell_type": "markdown",
      "metadata": {
        "id": "view-in-github",
        "colab_type": "text"
      },
      "source": [
        "<a href=\"https://colab.research.google.com/github/ShravantiHable/AA/blob/main/ADV_C190_2.ipynb\" target=\"_parent\"><img src=\"https://colab.research.google.com/assets/colab-badge.svg\" alt=\"Open In Colab\"/></a>"
      ]
    },
    {
      "cell_type": "code",
      "metadata": {
        "id": "LCZB_Dq835hi"
      },
      "source": [
        "#Additional-Activity-2\r\n",
        "#The \"raw.csv\" file is sorted in descending order\r\n",
        "#So read the CSV and get the name and date of the Satellites which was launched earliest\r\n",
        "\r\n",
        "#predefine code\r\n",
        "import pandas as pd\r\n",
        "from matplotlib import pyplot as plt\r\n",
        "df = pd.read_csv('https://shravantihable.github.io/AA/Launch_Date.csv')\r\n",
        "df\r\n",
        "#predefine code end\r\n",
        "\r\n",
        "#from the dataframe df retrive the last row using the tail() function and store it in variable earliest_satellites.\r\n",
        "\r\n",
        "\r\n",
        "#inside the print() function write the string as \"Oldest On : \"\r\n",
        "\r\n",
        "#inside the print() function access the values of column 'Launch Date' which is present in dataset earliest_satellites, by writing the 'Launch Date' inside square bracktes.\r\n",
        "\r\n",
        "#inside the print() function access the values of column 'Name' which is present in dataset earliest_satellites, by writing the 'Name' inside square bracktes.\r\n",
        "\r\n",
        "#inside the print() function write the string \"Satellites had launched\" to indicate that this satalite had launched recently.\r\n"
      ],
      "execution_count": null,
      "outputs": []
    }
  ]
}