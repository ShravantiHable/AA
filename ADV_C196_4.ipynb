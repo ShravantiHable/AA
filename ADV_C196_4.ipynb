{
  "nbformat": 4,
  "nbformat_minor": 0,
  "metadata": {
    "colab": {
      "name": "ADV_C196.4.ipynb",
      "provenance": [],
      "collapsed_sections": [],
      "authorship_tag": "ABX9TyNAc/eMPtFyzvvwvZsRThI5",
      "include_colab_link": true
    },
    "kernelspec": {
      "name": "python3",
      "display_name": "Python 3"
    }
  },
  "cells": [
    {
      "cell_type": "markdown",
      "metadata": {
        "id": "view-in-github",
        "colab_type": "text"
      },
      "source": [
        "<a href=\"https://colab.research.google.com/github/ShravantiHable/AA/blob/main/ADV_C196_4.ipynb\" target=\"_parent\"><img src=\"https://colab.research.google.com/assets/colab-badge.svg\" alt=\"Open In Colab\"/></a>"
      ]
    },
    {
      "cell_type": "code",
      "metadata": {
        "id": "oFwSN9ig3EUA"
      },
      "source": [
        "#Additional Activity 4\r\n",
        "#plotting the histogram for the cabin crew members of different age groups who survived. \r\n",
        "#predefine code\r\n",
        "#import the required packages \r\n",
        "import pandas as pd\r\n",
        "import matplotlib.pyplot as plt\r\n",
        "#Read the csv file.\r\n",
        "df = pd.read_csv(\"https://shravantihable.github.io/AA/titanic_crew_info.csv\")\r\n",
        "df\r\n",
        "df = df.dropna()\r\n",
        "df\r\n",
        "new_df = df.loc[df['Survived'] == 1.0]\r\n",
        "new_df\r\n",
        "#predefine code end\r\n",
        "\r\n",
        "#seting the size of figure - using the plt.figure() function set the figsize by taking the width and height of your choice.\r\n",
        "\r\n",
        "#using the plt.hist() function, plot the histogram for the cabin crew members, for this set the below parameters inside the plt.hist() function\r\n",
        "#access the 'Age' column of new_df data frame, then add the '.' operator and access the head() function to get the first 50 crew members\r\n",
        "#set the bins upto 10 range\r\n",
        "#set the label as 'Age'\r\n",
        "\r\n",
        "#using the plt.title() function give the tital to graph plot.\r\n",
        "\r\n",
        "#using the plt.ylabel() function give the label to y-axis of graph plot.\r\n",
        "\r\n",
        "#using the plt.xlabel() function give the label to x-axis of graph plot.\r\n",
        "\r\n",
        "#using the plt.legend() function set the legend to the graph.\r\n",
        "\r\n",
        "plt.show()"
      ],
      "execution_count": 3,
      "outputs": []
    }
  ]
}