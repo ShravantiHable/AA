{
  "nbformat": 4,
  "nbformat_minor": 0,
  "metadata": {
    "colab": {
      "name": "ADV_C201.4.ipynb",
      "provenance": [],
      "collapsed_sections": [],
      "authorship_tag": "ABX9TyM+BIcE43rpDbATUwsa3JuI",
      "include_colab_link": true
    },
    "kernelspec": {
      "name": "python3",
      "display_name": "Python 3"
    },
    "widgets": {
      "application/vnd.jupyter.widget-state+json": {
        "921b72d62eea46d695e56c40d00e68aa": {
          "model_module": "@jupyter-widgets/controls",
          "model_name": "ButtonModel",
          "state": {
            "_view_name": "ButtonView",
            "style": "IPY_MODEL_672bdb54441b45b39d22e3c45250f634",
            "_dom_classes": [],
            "description": "File select",
            "_model_name": "ButtonModel",
            "button_style": "",
            "_view_module": "@jupyter-widgets/controls",
            "_model_module_version": "1.5.0",
            "tooltip": "",
            "_view_count": null,
            "disabled": false,
            "_view_module_version": "1.5.0",
            "layout": "IPY_MODEL_634c980f03e14121aa87c5261d6b27f8",
            "_model_module": "@jupyter-widgets/controls",
            "icon": ""
          }
        },
        "672bdb54441b45b39d22e3c45250f634": {
          "model_module": "@jupyter-widgets/controls",
          "model_name": "ButtonStyleModel",
          "state": {
            "_view_name": "StyleView",
            "_model_name": "ButtonStyleModel",
            "_view_module": "@jupyter-widgets/base",
            "_model_module_version": "1.5.0",
            "_view_count": null,
            "button_color": null,
            "font_weight": "",
            "_view_module_version": "1.2.0",
            "_model_module": "@jupyter-widgets/controls"
          }
        },
        "634c980f03e14121aa87c5261d6b27f8": {
          "model_module": "@jupyter-widgets/base",
          "model_name": "LayoutModel",
          "state": {
            "_view_name": "LayoutView",
            "grid_template_rows": null,
            "right": null,
            "justify_content": null,
            "_view_module": "@jupyter-widgets/base",
            "overflow": null,
            "_model_module_version": "1.2.0",
            "_view_count": null,
            "flex_flow": null,
            "width": null,
            "min_width": null,
            "border": null,
            "align_items": null,
            "bottom": null,
            "_model_module": "@jupyter-widgets/base",
            "top": null,
            "grid_column": null,
            "overflow_y": null,
            "overflow_x": null,
            "grid_auto_flow": null,
            "grid_area": null,
            "grid_template_columns": null,
            "flex": null,
            "_model_name": "LayoutModel",
            "justify_items": null,
            "grid_row": null,
            "max_height": null,
            "align_content": null,
            "visibility": null,
            "align_self": null,
            "height": null,
            "min_height": null,
            "padding": null,
            "grid_auto_rows": null,
            "grid_gap": null,
            "max_width": null,
            "order": null,
            "_view_module_version": "1.2.0",
            "grid_template_areas": null,
            "object_position": null,
            "object_fit": null,
            "grid_auto_columns": null,
            "margin": null,
            "display": null,
            "left": null
          }
        }
      }
    }
  },
  "cells": [
    {
      "cell_type": "markdown",
      "metadata": {
        "id": "view-in-github",
        "colab_type": "text"
      },
      "source": [
        "<a href=\"https://colab.research.google.com/github/ShravantiHable/AA/blob/main/ADV_C201_4.ipynb\" target=\"_parent\"><img src=\"https://colab.research.google.com/assets/colab-badge.svg\" alt=\"Open In Colab\"/></a>"
      ]
    },
    {
      "cell_type": "code",
      "metadata": {
        "colab": {
          "base_uri": "https://localhost:8080/",
          "height": 365,
          "referenced_widgets": [
            "921b72d62eea46d695e56c40d00e68aa",
            "672bdb54441b45b39d22e3c45250f634",
            "634c980f03e14121aa87c5261d6b27f8"
          ]
        },
        "id": "J3uTEIonHUlJ",
        "outputId": "31705939-ef00-4166-fbb4-8233c1d30215"
      },
      "source": [
        "#Activity 4: using radio button select columns for x and y axis and plot a bar chart for the same.\r\n",
        "from ipywidgets import widgets\r\n",
        "from IPython.display import display, clear_output\r\n",
        "import pandas as pd\r\n",
        "import matplotlib.pyplot as plt \r\n",
        "\r\n",
        "\r\n",
        "df= pd.read_csv(\"https://shravantihable.github.io/AA/percentage.csv\")\r\n",
        "def select_cols(b):\r\n",
        "    #call the clear_output() function to clear the previous output.\r\n",
        "\r\n",
        "    #access the df variable inside the function\r\n",
        "\r\n",
        "    print(df)\r\n",
        "    x= widgets.RadioButtons(options=df.columns,description=\"xaxis_label\")\r\n",
        "    y= widgets.RadioButtons(options=df.columns,description=\"yaxis_label\")\r\n",
        "    #link the radio button widget to the function plot_graph(yet to be created just write and keep the name of function plot_graph) by using the widgets.interactive().And inside this function add the below parameters\r\n",
        "    # 1)plot_graph- this is the function yet to be created for plotting the graph\r\n",
        "    # 2) x_axis=x - this is the column value selected from the drop down for x-axis\r\n",
        "    # 3) y_axis - this is the column value selected from the drop down for y-axis\r\n",
        "    #and store this linked function and radio button in  a variable graph.\r\n",
        "\r\n",
        "    display(graph)\r\n",
        "    \r\n",
        "fileselect = widgets.Button(description=\"File select\")\r\n",
        "fileselect.on_click(select_cols)\r\n",
        "display(fileselect)\r\n",
        "\r\n",
        "\r\n",
        "def plot_graph(x_axis,y_axis):\r\n",
        "    #access the df variable inside the function\r\n",
        "  \r\n",
        "    plt.subplots(figsize=(19,8))\r\n",
        "    #using the plt.bar() function plot the bar graph, for the columns selected, for this update the below parameters of this function.\r\n",
        "    #1) df[x_axis]- this is the column of the dataframe which is selected using the radio button for x-axis.\r\n",
        "    #2) df[y_axis]- this is the column of the dataframe which is selected using the radio button for y-axis.\r\n",
        "    #3) color=[]- add the colors of your choice inside this list.\r\n",
        "   \r\n",
        "    plt.xlabel(x_axis)\r\n",
        "    plt.ylabel(y_axis)\r\n",
        "    plt.show()\r\n"
      ],
      "execution_count": 1,
      "outputs": [
        {
          "output_type": "display_data",
          "data": {
            "application/vnd.jupyter.widget-view+json": {
              "model_id": "921b72d62eea46d695e56c40d00e68aa",
              "version_minor": 0,
              "version_major": 2
            },
            "text/plain": [
              "Button(description='File select', style=ButtonStyle())"
            ]
          },
          "metadata": {
            "tags": []
          }
        },
        {
          "output_type": "stream",
          "text": [
            "     Name  Percentage  Age\n",
            "0  aparna          90   16\n",
            "1  akshay          40   17\n",
            "2    lisa          80   18\n",
            "3    joey          98   16\n",
            "4    john          89   17\n"
          ],
          "name": "stdout"
        },
        {
          "output_type": "error",
          "ename": "NameError",
          "evalue": "ignored",
          "traceback": [
            "\u001b[0;31m---------------------------------------------------------------------------\u001b[0m",
            "\u001b[0;31mNameError\u001b[0m                                 Traceback (most recent call last)",
            "\u001b[0;32m<ipython-input-1-86057cfd60c3>\u001b[0m in \u001b[0;36mselect_cols\u001b[0;34m(b)\u001b[0m\n\u001b[1;32m     21\u001b[0m     \u001b[0;31m#and store this linked function and radio button in  a variable graph.\u001b[0m\u001b[0;34m\u001b[0m\u001b[0;34m\u001b[0m\u001b[0;34m\u001b[0m\u001b[0m\n\u001b[1;32m     22\u001b[0m \u001b[0;34m\u001b[0m\u001b[0m\n\u001b[0;32m---> 23\u001b[0;31m     \u001b[0mdisplay\u001b[0m\u001b[0;34m(\u001b[0m\u001b[0mgraph\u001b[0m\u001b[0;34m)\u001b[0m\u001b[0;34m\u001b[0m\u001b[0;34m\u001b[0m\u001b[0m\n\u001b[0m\u001b[1;32m     24\u001b[0m \u001b[0;34m\u001b[0m\u001b[0m\n\u001b[1;32m     25\u001b[0m \u001b[0mfileselect\u001b[0m \u001b[0;34m=\u001b[0m \u001b[0mwidgets\u001b[0m\u001b[0;34m.\u001b[0m\u001b[0mButton\u001b[0m\u001b[0;34m(\u001b[0m\u001b[0mdescription\u001b[0m\u001b[0;34m=\u001b[0m\u001b[0;34m\"File select\"\u001b[0m\u001b[0;34m)\u001b[0m\u001b[0;34m\u001b[0m\u001b[0;34m\u001b[0m\u001b[0m\n",
            "\u001b[0;31mNameError\u001b[0m: name 'graph' is not defined"
          ]
        }
      ]
    }
  ]
}