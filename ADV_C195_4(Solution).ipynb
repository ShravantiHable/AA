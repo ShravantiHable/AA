{
  "nbformat": 4,
  "nbformat_minor": 0,
  "metadata": {
    "colab": {
      "name": "ADV_C195.4(Solution).ipynb",
      "provenance": [],
      "collapsed_sections": [],
      "authorship_tag": "ABX9TyO/gvrCC76TZK87G2R98rs5",
      "include_colab_link": true
    },
    "kernelspec": {
      "name": "python3",
      "display_name": "Python 3"
    }
  },
  "cells": [
    {
      "cell_type": "markdown",
      "metadata": {
        "id": "view-in-github",
        "colab_type": "text"
      },
      "source": [
        "<a href=\"https://colab.research.google.com/github/ShravantiHable/AA/blob/main/ADV_C195_4(Solution).ipynb\" target=\"_parent\"><img src=\"https://colab.research.google.com/assets/colab-badge.svg\" alt=\"Open In Colab\"/></a>"
      ]
    },
    {
      "cell_type": "code",
      "metadata": {
        "id": "DspVEPLxUXND"
      },
      "source": [
        "#Additional-Activity-4\r\n",
        "#plot the pie chart showing the percentage of firespots in a state\r\n",
        "\r\n",
        "#predefine code\r\n",
        "import pandas as pd\r\n",
        "import matplotlib.pyplot as plt \r\n",
        "\r\n",
        "df = pd.read_csv('https://shravantihable.github.io/AA/inpe_brazilian_amazon_fires_1999_2019.csv')\r\n",
        "df\r\n",
        "#predefine code end\r\n",
        "\r\n",
        "#apply the groupby function on 'state' column and add a column  'firespots' and on it apply the max() function, and reset the index to 0 and store it in variable group_by_state .\r\n",
        "group_by_state = df.groupby('state')['firespots'].max().reset_index()\r\n",
        "#print the variable group_by_state\r\n",
        "group_by_state\r\n",
        "\r\n",
        "#define a variable value and store in it 'firespots' of group_by_state\r\n",
        "value = group_by_state['firespots']\r\n",
        "#define a variable label and store in it 'firespots' of group_by_state\r\n",
        "label = group_by_state['state']\r\n",
        "#using the plt.pie() function, and set the following parameters\r\n",
        "#value \r\n",
        "#labels\r\n",
        "#autopct- set the percentage upto 1 decimal places\r\n",
        "#radius - set the radius of the pie.\r\n",
        "plt.pie(value,labels=label, autopct='%0.1f%%', radius=2)\r\n",
        "plt.show()"
      ],
      "execution_count": null,
      "outputs": []
    }
  ]
}