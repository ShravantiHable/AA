{
  "nbformat": 4,
  "nbformat_minor": 0,
  "metadata": {
    "colab": {
      "name": "ADV_C190.3(Solution).ipynb",
      "provenance": [],
      "collapsed_sections": [],
      "authorship_tag": "ABX9TyOJsf9hwrfoaNjewX6Cdi4s",
      "include_colab_link": true
    },
    "kernelspec": {
      "name": "python3",
      "display_name": "Python 3"
    }
  },
  "cells": [
    {
      "cell_type": "markdown",
      "metadata": {
        "id": "view-in-github",
        "colab_type": "text"
      },
      "source": [
        "<a href=\"https://colab.research.google.com/github/ShravantiHable/AA/blob/main/ADV_C190_3(Solution).ipynb\" target=\"_parent\"><img src=\"https://colab.research.google.com/assets/colab-badge.svg\" alt=\"Open In Colab\"/></a>"
      ]
    },
    {
      "cell_type": "code",
      "metadata": {
        "colab": {
          "base_uri": "https://localhost:8080/"
        },
        "id": "J-l6ZpN74e2K",
        "outputId": "9409c4bd-abdd-4d15-9f8c-b8a212f164f2"
      },
      "source": [
        "#Additional-Activity-3\r\n",
        "#The \"Launch Mass.csv\" file is sorted in ascending order\r\n",
        "#Read the csv such that you get the 5 least heavy Launch Vehicle name and they weight and convert it into list and print them\r\n",
        "\r\n",
        "#predefine code\r\n",
        "import pandas as pd\r\n",
        "from matplotlib import pyplot as plt\r\n",
        "df = pd.read_csv('https://shravantihable.github.io/AA/Launch%20Mass.csv')\r\n",
        "df\r\n",
        "#predefine code end\r\n",
        "\r\n",
        "#from the dataframe df retrive the first five rows using the head() function and store it in variable recent_satellites least_heavy_5\r\n",
        "least_heavy_5 = df.head(5)\r\n",
        "\r\n",
        "#retrive the values of the column 'Launch Mass' which is present in the least_heavy_5. And convert it into list using tolist() function and store it in a in variable mass.\r\n",
        "mass = least_heavy_5['Launch Mass'].tolist()\r\n",
        "\r\n",
        "#retrive the values of the column 'Launch Vehicle' which is present in the least_heavy_5.And convert it into list using tolist() function and store it in a in variable launch_vehicle.\r\n",
        "launch_vehicle = least_heavy_5['Launch Vehicle'].tolist()\r\n",
        "\r\n",
        "#print the variable mass which contains the list of vehical mass present in the Launch Mass column.\r\n",
        "print(mass)\r\n",
        "#print the variable mass which contains the list of vehicals present in the Launch Vehicle column.\r\n",
        "print(launch_vehicle)\r\n"
      ],
      "execution_count": null,
      "outputs": [
        {
          "output_type": "stream",
          "text": [
            "['< 1\\xa0kg (2.2\\xa0lb)', '975\\xa0kg (2,150\\xa0lb)', '975\\xa0kg (2,150\\xa0lb)', '960\\xa0kg (2,120\\xa0lb)', '930\\xa0kg (2,050\\xa0lb)']\n",
            "['PSLV-C15', 'Vostok', 'Vostok', 'PSLV-C14', 'PSLV-D3']\n"
          ],
          "name": "stdout"
        }
      ]
    }
  ]
}