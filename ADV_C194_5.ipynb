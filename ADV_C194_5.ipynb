{
  "nbformat": 4,
  "nbformat_minor": 0,
  "metadata": {
    "colab": {
      "name": "ADV_C194.5.ipynb",
      "provenance": [],
      "collapsed_sections": [],
      "authorship_tag": "ABX9TyOGYl8gT7Ppgn0/RNRXGrO/",
      "include_colab_link": true
    },
    "kernelspec": {
      "name": "python3",
      "display_name": "Python 3"
    }
  },
  "cells": [
    {
      "cell_type": "markdown",
      "metadata": {
        "id": "view-in-github",
        "colab_type": "text"
      },
      "source": [
        "<a href=\"https://colab.research.google.com/github/ShravantiHable/AA/blob/main/ADV_C194_5.ipynb\" target=\"_parent\"><img src=\"https://colab.research.google.com/assets/colab-badge.svg\" alt=\"Open In Colab\"/></a>"
      ]
    },
    {
      "cell_type": "code",
      "metadata": {
        "id": "h4OOnkJRq7BA"
      },
      "source": [
        "#Additional-Activty-5\r\n",
        "#find the highest value of the IMDb for the year 2019\r\n",
        "\r\n",
        "#predefine code\r\n",
        "import pandas as pd\r\n",
        "import matplotlib.pyplot as plt\r\n",
        "df = pd.read_csv('https://shravantihable.github.io/AA/movie_update.csv')\r\n",
        "df\r\n",
        "\r\n",
        "#predefine code end\r\n",
        "\r\n",
        "#to find the yearly IMDb, first group values of the 'Year' column by applying df.groupby function, and then add the column 'IMDb' inside the sqauare brackets and apply the max() function it, and reset the index to 0 group_by_year.\r\n",
        "\r\n",
        "#print the variable group_by_year\r\n",
        "\r\n",
        "# using the  group_by_year.loc[] attribute access the values of the column 'Year' present in group_by_year check that the values of column should be equal to 2019.\r\n"
      ],
      "execution_count": null,
      "outputs": []
    }
  ]
}