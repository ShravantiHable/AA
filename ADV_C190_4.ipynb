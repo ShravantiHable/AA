{
  "nbformat": 4,
  "nbformat_minor": 0,
  "metadata": {
    "colab": {
      "name": "ADV-C190.4.ipynb",
      "provenance": [],
      "collapsed_sections": [],
      "authorship_tag": "ABX9TyMwwQCqjCteGdzs7hACCaId",
      "include_colab_link": true
    },
    "kernelspec": {
      "name": "python3",
      "display_name": "Python 3"
    }
  },
  "cells": [
    {
      "cell_type": "markdown",
      "metadata": {
        "id": "view-in-github",
        "colab_type": "text"
      },
      "source": [
        "<a href=\"https://colab.research.google.com/github/ShravantiHable/AA/blob/main/ADV_C190_4.ipynb\" target=\"_parent\"><img src=\"https://colab.research.google.com/assets/colab-badge.svg\" alt=\"Open In Colab\"/></a>"
      ]
    },
    {
      "cell_type": "code",
      "metadata": {
        "id": "ufc1sbLG9SpW"
      },
      "source": [
        "#Additional-Activity-4\r\n",
        "#The \"Launch Mass.csv\" file is sorted in ascending order\r\n",
        "#Plot the 5 least heavy Launch Vehicle name and they weight\r\n",
        "\r\n",
        "#predefine code\r\n",
        "import pandas as pd\r\n",
        "from matplotlib import pyplot as plt\r\n",
        "df = pd.read_csv('https://shravantihable.github.io/AA/Launch%20Mass.csv')\r\n",
        "df\r\n",
        "\r\n",
        "least_heavy_5 = df.head(5)\r\n",
        "mass = least_heavy_5['Launch Mass']\r\n",
        "launch_vehicle = least_heavy_5['Launch Vehicle']\r\n",
        "print(mass)\r\n",
        "print(launch_vehicle)\r\n",
        "#predefine code end\r\n",
        "\r\n",
        "## give the name to the x axis as \"Launch Vehicle\" using the plt.xlabel() function.\r\n",
        "\r\n",
        "#to make the xlabels appear vertically, set the rotation as 'vertical' using the plt.xticks() function.\r\n",
        "\r\n",
        "#give the name to the y axis as \"Launch Mass\" using the plt.ylabel() function.\r\n",
        "\r\n",
        "\r\n",
        "#define a variable label and inside it store the launch_vehicle variable which holds the vehical details\r\n",
        "\r\n",
        "#define a variable value and inside it store the mass variable which holds the vehical mass\r\n",
        "\r\n",
        "#plot the bar graph using the plt.bar() function. And set the parameters of the plt.bar() function in the given order:\r\n",
        "#label\r\n",
        "#value\r\n",
        "#width\r\n",
        "#color\r\n",
        "#bar-grap"
      ],
      "execution_count": null,
      "outputs": []
    }
  ]
}