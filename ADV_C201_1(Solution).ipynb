{
  "nbformat": 4,
  "nbformat_minor": 0,
  "metadata": {
    "colab": {
      "name": "ADV_C201.1(Solution).ipynb",
      "provenance": [],
      "authorship_tag": "ABX9TyP1ZzCobtEe5DWcQyCT75b7",
      "include_colab_link": true
    },
    "kernelspec": {
      "name": "python3",
      "display_name": "Python 3"
    }
  },
  "cells": [
    {
      "cell_type": "markdown",
      "metadata": {
        "id": "view-in-github",
        "colab_type": "text"
      },
      "source": [
        "<a href=\"https://colab.research.google.com/github/ShravantiHable/AA/blob/main/ADV_C201_1(Solution).ipynb\" target=\"_parent\"><img src=\"https://colab.research.google.com/assets/colab-badge.svg\" alt=\"Open In Colab\"/></a>"
      ]
    },
    {
      "cell_type": "code",
      "metadata": {
        "id": "wHqk31YOzt2u"
      },
      "source": [
        "#Activity 1: using the slider, select a number and display on the text area and find the power of that number.\r\n",
        "\r\n",
        "\r\n",
        "from ipywidgets import widgets\r\n",
        "#below is the code to create text widget that takes integer values which is stored in txt_widget variable.\r\n",
        "txt_widget = widgets.IntText(description=\"Text Widget\")\r\n",
        "#similarly define a variable slider_widget, and inside it store the slider widget holding integer numbers. To create integer slider widget use the widgets.Intslider() function, and inside the function give suitable description for that slider.\r\n",
        "slider_widget= widgets.IntSlider(description=\"Slider\")\r\n",
        "#display the txt_widget variable, which holds the text widget and slider_widget variable, that holds the slider widget.\r\n",
        "display(txt_widget,slider_widget)\r\n",
        "\r\n",
        "\r\n",
        "#Now, here we want to link the textbox value and slider value. This is to be done as, we have to take the slider value into text box. So for this we will use widgets.jlink() function.\r\n",
        "#this  widgets.link() function- links the value of one widget to another widget, so changes made in one widget value, updates the same change in other widget value.\r\n",
        "#below is the code which links the text widget value, to slider_widget.(See the way it is written)\r\n",
        "mylink = widgets.jslink((txt_widget, 'value'), (slider_widget, 'value'))\r\n",
        "\r\n",
        "\r\n",
        "def power(b):\r\n",
        "    #define a variable power_no and inside it store the power of the value taken from text_widget. For this use the pow() function and inside it pass txt_widget.value, give ',' comma and mention the power you want to find example:(txt_widget.value,4)\r\n",
        "    power_no= pow(txt_widget.value,2)\r\n",
        "    #print the variable power_no, to get the output, followed by a string \"Power\".\r\n",
        "    print(\"Power\",power_no)\r\n",
        "    \r\n",
        "\r\n",
        "power_btn = widgets.Button(description=\"power\")\r\n",
        "#now using the variable power_btn which holds the button component, access the on_click() function and inside it pass the function name power\r\n",
        "power_btn.on_click(power) \r\n",
        "#using the display() function call the power_btn variable to display the button on the output cell.\r\n",
        "display(power_btn)"
      ],
      "execution_count": null,
      "outputs": []
    }
  ]
}