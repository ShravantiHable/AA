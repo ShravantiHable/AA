{
  "nbformat": 4,
  "nbformat_minor": 0,
  "metadata": {
    "colab": {
      "name": "ADV_C195.2",
      "provenance": [],
      "collapsed_sections": [],
      "authorship_tag": "ABX9TyNI7DW1V636HaXLA3eF+z89",
      "include_colab_link": true
    },
    "kernelspec": {
      "name": "python3",
      "display_name": "Python 3"
    }
  },
  "cells": [
    {
      "cell_type": "markdown",
      "metadata": {
        "id": "view-in-github",
        "colab_type": "text"
      },
      "source": [
        "<a href=\"https://colab.research.google.com/github/ShravantiHable/AA/blob/main/ADV_C195_2.ipynb\" target=\"_parent\"><img src=\"https://colab.research.google.com/assets/colab-badge.svg\" alt=\"Open In Colab\"/></a>"
      ]
    },
    {
      "cell_type": "code",
      "metadata": {
        "id": "82QNLcSDM6M2"
      },
      "source": [
        "#Additional-Activity-2\r\n",
        "#plot the pie chart showing the percentage of an event occured in a month.\r\n",
        "\r\n",
        "#predefine code\r\n",
        "import pandas as pd\r\n",
        "import matplotlib.pyplot as plt \r\n",
        "\r\n",
        "df = pd.read_csv('https://shravantihable.github.io/AA/austin_weather.csv')\r\n",
        "df\r\n",
        "\r\n",
        "df['month'] = pd.DatetimeIndex(df['Date']).month\r\n",
        "df\r\n",
        "\r\n",
        "group_by_month = df.groupby('Events')['month'].max().reset_index()\r\n",
        "group_by_month\r\n",
        "#predefine code end\r\n",
        "\r\n",
        "#remove the missing values from the dataframe group_by_month. Use the replace() function and update the parameters as\r\n",
        "# \" \" - missing values\r\n",
        "#float(\"NaN\") - replace the missing values with NaN\r\n",
        "#inplace=True - replace the values wherever the NaN values is True\r\n",
        "\r\n",
        "\r\n",
        "\r\n",
        "#apply the dropna() functionality on the group_by_month variable and store it in variable new_df\r\n",
        "\r\n",
        "#call the new_df variable\r\n",
        "\r\n",
        "\r\n",
        "#define a variable value, and inside it store values of month column of new_df data frame.\r\n",
        "\r\n",
        "#define a variable label, and inside it store values of Events column of new_df data frame.\r\n",
        "\r\n",
        "#using the plt.pie() function, and update the parameters for the following:\r\n",
        "#value - which holds the values of month column of new_df data frame\r\n",
        "#labels - which holds the values of Events column of new_df data frame\r\n",
        "#autopct - set the percentage value upto 1 decimal place\r\n",
        "#radius - set the radius of the pie chart\r\n",
        "\r\n",
        "plt.show()\r\n"
      ],
      "execution_count": 1,
      "outputs": []
    }
  ]
}