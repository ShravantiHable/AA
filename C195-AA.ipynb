{
 "cells": [
  {
   "cell_type": "code",
   "execution_count": 23,
   "metadata": {},
   "outputs": [
    {
     "name": "stdout",
     "output_type": "stream",
     "text": [
      "Total Movies -  16744\n",
      "Total Netflix Movies -  3560\n"
     ]
    }
   ],
   "source": [
    "#Additional-Activty-1\n",
    "\n",
    "#predefine code\n",
    "import pandas as pd\n",
    "import matplotlib.pyplot as plt\n",
    "#predefine code end\n",
    "\n",
    "df = pd.read_csv('movie_update.csv')\n",
    "df\n",
    "\n",
    "total_movies = df['ID'].count()\n",
    "print(\"Total Movies - \", total_movies)\n",
    "\n",
    "total_netflix_movies = df.loc[df['Netflix'] == 1]\n",
    "total_netflix_movies = total_netflix_movies['ID'].count()\n",
    "print(\"Total Netflix Movies - \", total_netflix_movies)\n",
    "\n"
   ]
  },
  {
   "cell_type": "code",
   "execution_count": 24,
   "metadata": {},
   "outputs": [
    {
     "name": "stdout",
     "output_type": "stream",
     "text": [
      "Total Movies -  16744\n",
      "Total Netflix Movies -  3560\n"
     ]
    },
    {
     "data": {
      "image/png": "[encoded data removed]",
      "text/plain": [
       "<Figure size 432x288 with 1 Axes>"
      ]
     },
     "metadata": {},
     "output_type": "display_data"
    }
   ],
   "source": [
    "#Additional-Activty-2\n",
    "\n",
    "#predefine code \n",
    "import pandas as pd\n",
    "import matplotlib.pyplot as plt\n",
    "\n",
    "df = pd.read_csv('movie_update.csv')\n",
    "df\n",
    "\n",
    "total_movies = df['ID'].count()\n",
    "print(\"Total Movies - \", total_movies)\n",
    "\n",
    "total_netflix_movies = df.loc[df['Netflix'] == 1]\n",
    "total_netflix_movies = total_netflix_movies['ID'].count()\n",
    "print(\"Total Netflix Movies - \", total_netflix_movies)\n",
    "#predefine code end\n",
    "\n",
    "\n",
    "#Plot a pie chart as per the genre and fetch which category of movie to make for making the maximum profit\n",
    "value = [total_movies,total_netflix_movies]\n",
    "label = ['total_movies','total_netflix_movies']\n",
    "plt.pie(value,labels=label, autopct='%0.1f%%', radius=2)\n",
    "plt.show()\n"
   ]
  },
  {
   "cell_type": "code",
   "execution_count": 69,
   "metadata": {},
   "outputs": [
    {
     "data": {
      "text/html": [
       "<div>\n",
       "<style scoped>\n",
       "    .dataframe tbody tr th:only-of-type {\n",
       "        vertical-align: middle;\n",
       "    }\n",
       "\n",
       "    .dataframe tbody tr th {\n",
       "        vertical-align: top;\n",
       "    }\n",
       "\n",
       "    .dataframe thead th {\n",
       "        text-align: right;\n",
       "    }\n",
       "</style>\n",
       "<table border=\"1\" class=\"dataframe\">\n",
       "  <thead>\n",
       "    <tr style=\"text-align: right;\">\n",
       "      <th></th>\n",
       "      <th>Country</th>\n",
       "      <th>Title</th>\n",
       "    </tr>\n",
       "  </thead>\n",
       "  <tbody>\n",
       "    <tr>\n",
       "      <th>1059</th>\n",
       "      <td>United States</td>\n",
       "      <td>8776</td>\n",
       "    </tr>\n",
       "    <tr>\n",
       "      <th>477</th>\n",
       "      <td>India</td>\n",
       "      <td>1064</td>\n",
       "    </tr>\n",
       "    <tr>\n",
       "      <th>908</th>\n",
       "      <td>United Kingdom</td>\n",
       "      <td>905</td>\n",
       "    </tr>\n",
       "    <tr>\n",
       "      <th>117</th>\n",
       "      <td>Canada</td>\n",
       "      <td>555</td>\n",
       "    </tr>\n",
       "    <tr>\n",
       "      <th>34</th>\n",
       "      <td>Australia</td>\n",
       "      <td>202</td>\n",
       "    </tr>\n",
       "    <tr>\n",
       "      <th>...</th>\n",
       "      <td>...</td>\n",
       "      <td>...</td>\n",
       "    </tr>\n",
       "    <tr>\n",
       "      <th>507</th>\n",
       "      <td>Ireland,Australia</td>\n",
       "      <td>1</td>\n",
       "    </tr>\n",
       "    <tr>\n",
       "      <th>508</th>\n",
       "      <td>Ireland,Belgium,France,Luxembourg,United Kingdom</td>\n",
       "      <td>1</td>\n",
       "    </tr>\n",
       "    <tr>\n",
       "      <th>509</th>\n",
       "      <td>Ireland,Belgium,United States</td>\n",
       "      <td>1</td>\n",
       "    </tr>\n",
       "    <tr>\n",
       "      <th>511</th>\n",
       "      <td>Ireland,Canada,Luxembourg,United States,United...</td>\n",
       "      <td>1</td>\n",
       "    </tr>\n",
       "    <tr>\n",
       "      <th>1302</th>\n",
       "      <td>Zambia,Sweden</td>\n",
       "      <td>1</td>\n",
       "    </tr>\n",
       "  </tbody>\n",
       "</table>\n",
       "<p>1303 rows × 2 columns</p>\n",
       "</div>"
      ],
      "text/plain": [
       "                                                Country  Title\n",
       "1059                                      United States   8776\n",
       "477                                               India   1064\n",
       "908                                      United Kingdom    905\n",
       "117                                              Canada    555\n",
       "34                                            Australia    202\n",
       "...                                                 ...    ...\n",
       "507                                   Ireland,Australia      1\n",
       "508    Ireland,Belgium,France,Luxembourg,United Kingdom      1\n",
       "509                       Ireland,Belgium,United States      1\n",
       "511   Ireland,Canada,Luxembourg,United States,United...      1\n",
       "1302                                      Zambia,Sweden      1\n",
       "\n",
       "[1303 rows x 2 columns]"
      ]
     },
     "execution_count": 69,
     "metadata": {},
     "output_type": "execute_result"
    }
   ],
   "source": [
    "#Additional-Activty-3\n",
    "\n",
    "#predefine code\n",
    "import pandas as pd\n",
    "import matplotlib.pyplot as plt\n",
    "df = pd.read_csv('movie_update.csv')\n",
    "df\n",
    "#predefine code end\n",
    "\n",
    "\n",
    "group_by_country = df.groupby('Country')['Title'].count().reset_index()\n",
    "group_by_country\n",
    "sorted_df = group_by_IMDb.sort_values(by=['Title'], ascending = False)\n",
    "sorted_df\n"
   ]
  },
  {
   "cell_type": "code",
   "execution_count": 70,
   "metadata": {},
   "outputs": [
    {
     "data": {
      "text/plain": [
       "Text(0, 0.5, 'Number of movies')"
      ]
     },
     "execution_count": 70,
     "metadata": {},
     "output_type": "execute_result"
    },
    {
     "data": {
      "image/png": "[encoded data removed]",
      "text/plain": [
       "<Figure size 1440x576 with 1 Axes>"
      ]
     },
     "metadata": {
      "needs_background": "light"
     },
     "output_type": "display_data"
    }
   ],
   "source": [
    "#Additional-Activty-4\n",
    "\n",
    "#predefine code\n",
    "import pandas as pd\n",
    "import matplotlib.pyplot as plt\n",
    "df = pd.read_csv('movie_update.csv')\n",
    "df\n",
    "\n",
    "group_by_country = df.groupby('Country')['Title'].count().reset_index()\n",
    "group_by_country\n",
    "sorted_df = group_by_IMDb.sort_values(by=['Title'], ascending = False)\n",
    "sorted_df\n",
    "#predefine code end\n",
    "\n",
    "\n",
    "top_5 = sorted_df.head(5)\n",
    "top_5\n",
    "\n",
    "#Plot a bubble graph to show total number of movies released each year\n",
    "plt.figure(figsize=(20, 8))\n",
    "\n",
    "plt.scatter(top_5['Country'], top_5['Title'], \n",
    "                  color='blue', label='Number of movies',\n",
    "                 alpha=0.5,\n",
    "                 s = top_5['Title'])\n",
    "\n",
    "\n",
    "plt.xticks(rotation='vertical')\n",
    "plt.legend()\n",
    "plt.xlabel(\"Years\", size=14)\n",
    "plt.ylabel(\"Number of movies\", size=14)\n",
    "\n"
   ]
  },
  {
   "cell_type": "code",
   "execution_count": null,
   "metadata": {},
   "outputs": [],
   "source": []
  },
  {
   "cell_type": "code",
   "execution_count": null,
   "metadata": {},
   "outputs": [],
   "source": []
  }
 ],
 "metadata": {
  "kernelspec": {
   "display_name": "Python 3",
   "language": "python",
   "name": "python3"
  },
  "language_info": {
   "codemirror_mode": {
    "name": "ipython",
    "version": 3
   },
   "file_extension": ".py",
   "mimetype": "text/x-python",
   "name": "python",
   "nbconvert_exporter": "python",
   "pygments_lexer": "ipython3",
   "version": "3.7.6"
  }
 },
 "nbformat": 4,
 "nbformat_minor": 4
}
