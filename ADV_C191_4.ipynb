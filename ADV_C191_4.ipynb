{
  "nbformat": 4,
  "nbformat_minor": 0,
  "metadata": {
    "colab": {
      "name": "ADV_C191.4.ipynb",
      "provenance": [],
      "authorship_tag": "ABX9TyMvsUhUT1BDiWiOIQ3l/G0d",
      "include_colab_link": true
    },
    "kernelspec": {
      "name": "python3",
      "display_name": "Python 3"
    }
  },
  "cells": [
    {
      "cell_type": "markdown",
      "metadata": {
        "id": "view-in-github",
        "colab_type": "text"
      },
      "source": [
        "<a href=\"https://colab.research.google.com/github/ShravantiHable/AA/blob/main/ADV_C191_4.ipynb\" target=\"_parent\"><img src=\"https://colab.research.google.com/assets/colab-badge.svg\" alt=\"Open In Colab\"/></a>"
      ]
    },
    {
      "cell_type": "code",
      "metadata": {
        "id": "zfEvZXFghkn-"
      },
      "source": [
        "#Addition-Activity-4\r\n",
        "#Which Rockets has the maximum Cost of the mission\r\n",
        "#Which Rockets has the minimum Cost of the mission\r\n",
        "\r\n",
        "\r\n",
        "import pandas as pd \r\n",
        "import matplotlib .pyplot as plt\r\n",
        "\r\n",
        "dataframe = pd.read_csv(\"https://shravantihable.github.io/AA/AA's/Space_Corrected.csv\")\r\n",
        "df=dataframe.dropna()\r\n",
        "df\r\n",
        "\r\n",
        "new = df.rename(columns={\" Rocket\": \"Cost_Of_Mission\"})\r\n",
        "sorted_df = new.sort_values(by=['Cost_Of_Mission'])\r\n",
        "sorted_df\r\n",
        "\r\n",
        "#retrive the first row of the dataframe present in sorted_df variable by using the head() function and pass value as 1 inside the head() function and store it in variable maximum.\r\n",
        "\r\n",
        "#using the print() function, print the string \"Maximum : \"\r\n",
        "\r\n",
        "#inside the print() function write the string as \"Rocket Name : \" followed by maximum['Detail'], this gives the rocket name which has the maximum cost followed by a comma, again followed by string \" , Cost - \" , followed by maximum['Cost_Of_Mission'] which gives the maximum from the column 'Cost_Of_Mission' \r\n",
        "\r\n",
        "\r\n",
        "#retrive last row of the dataframe present in sorted_df variable by using the tail() function and pass value as 1 inside the tail() function and store it in variable minimum.\r\n",
        "\r\n",
        "#using the print() function, print the string \"Minimum : \"\r\n",
        "\r\n",
        "#inside the print() function write the string as \"Rocket Name : \" followed by minimum['Detail'], this gives the rocket name which has the minimum cost followed by a comma, again followed by string \" , Cost - \" , followed by minimum['Cost_Of_Mission'] which gives the minimum from the column 'Cost_Of_Mission' \r\n"
      ],
      "execution_count": null,
      "outputs": []
    }
  ]
}