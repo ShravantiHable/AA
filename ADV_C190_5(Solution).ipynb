{
  "nbformat": 4,
  "nbformat_minor": 0,
  "metadata": {
    "colab": {
      "name": "ADV-C190.5(Solution).ipynb",
      "provenance": [],
      "collapsed_sections": [],
      "authorship_tag": "ABX9TyMHvoZoZJeV16eAbvuiBx6N",
      "include_colab_link": true
    },
    "kernelspec": {
      "name": "python3",
      "display_name": "Python 3"
    }
  },
  "cells": [
    {
      "cell_type": "markdown",
      "metadata": {
        "id": "view-in-github",
        "colab_type": "text"
      },
      "source": [
        "<a href=\"https://colab.research.google.com/github/ShravantiHable/AA/blob/main/ADV_C190_5(Solution).ipynb\" target=\"_parent\"><img src=\"https://colab.research.google.com/assets/colab-badge.svg\" alt=\"Open In Colab\"/></a>"
      ]
    },
    {
      "cell_type": "code",
      "metadata": {
        "id": "YERIfmFO99Rv"
      },
      "source": [
        "#Additional-Activity-5\r\n",
        "#The \"Launch Mass.csv\" file is sorted in ascending order\r\n",
        "#Plot the 5 heaviest Launch Vehicle name and they weight\r\n",
        "\r\n",
        "#predefine code\r\n",
        "import pandas as pd\r\n",
        "from matplotlib import pyplot as plt\r\n",
        "df = pd.read_csv('https://shravantihable.github.io/AA/Launch%20Mass.csv')\r\n",
        "df\r\n",
        "#predefine code end\r\n",
        "\r\n",
        "\r\n",
        "#from the dataframe df retrive the last five rows using the tail() function and store it in variable heaviest_5.\r\n",
        "heaviest_5 = df.tail(5)\r\n",
        "#retrive the values of the column 'Launch Mass' which is present in the heaviest_5 variable and store it in variable mass.\r\n",
        "mass = heaviest_5['Launch Mass']\r\n",
        "#retrive the values of the column 'Launch Vehicle' which is present in the heaviest_5 variable and store it in variable launch_vehicle .\r\n",
        "launch_vehicle = heaviest_5['Launch Vehicle']\r\n",
        "#print the variable mass which contains the vehical mass.\r\n",
        "print(mass)\r\n",
        "#print the variable launch_vehicle which contains vehicals details\r\n",
        "print(launch_vehicle)\r\n",
        "\r\n",
        "# give the name to the x axis as \"Launch Vehicle\" using the plt.xlabel() function.\r\n",
        "plt.xlabel(\"Launch Vehicle\")\r\n",
        "#to make the xlabels appear vertically, set the rotation as 'vertical' using the plt.xticks() function.\r\n",
        "plt.xticks(rotation='vertical')\r\n",
        "#give the name to the y axis as \"Launch Mass\" using the plt.ylabel() function.\r\n",
        "plt.ylabel(\"Launch Mass\")\r\n",
        "\r\n",
        "#define a variable label and inside it store the launch_vehicle variable which holds the vehical details\r\n",
        "label = launch_vehicle\r\n",
        "#define a variable value and inside it store the mass variable which holds the vehical mass\r\n",
        "value = mass \r\n",
        "#plot the bar graph using the plt.bar() function. And set the parameters of the plt.bar() function in the given order:\r\n",
        "#label\r\n",
        "#value\r\n",
        "#width\r\n",
        "#color\r\n",
        "plt.bar(label, value,width=0.4, color=('red','blue','green','pink','yellow')) #bar-grap"
      ],
      "execution_count": null,
      "outputs": []
    }
  ]
}