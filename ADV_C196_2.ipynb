{
  "nbformat": 4,
  "nbformat_minor": 0,
  "metadata": {
    "colab": {
      "name": "ADV_C196.2.ipynb",
      "provenance": [],
      "collapsed_sections": [],
      "authorship_tag": "ABX9TyOS+hxpao56BunsIkzxXTVU",
      "include_colab_link": true
    },
    "kernelspec": {
      "name": "python3",
      "display_name": "Python 3"
    }
  },
  "cells": [
    {
      "cell_type": "markdown",
      "metadata": {
        "id": "view-in-github",
        "colab_type": "text"
      },
      "source": [
        "<a href=\"https://colab.research.google.com/github/ShravantiHable/AA/blob/main/ADV_C196_2.ipynb\" target=\"_parent\"><img src=\"https://colab.research.google.com/assets/colab-badge.svg\" alt=\"Open In Colab\"/></a>"
      ]
    },
    {
      "cell_type": "code",
      "metadata": {
        "id": "QogVdV89oSBk"
      },
      "source": [
        "#Additional Activity 2\r\n",
        "#plot the pie chart showing the percentage of female and male on the titanic ship.\r\n",
        "#predefine code\r\n",
        "\r\n",
        "#import the required packages \r\n",
        "import pandas as pd\r\n",
        "import matplotlib.pyplot as plt\r\n",
        "#Read the csv file.\r\n",
        "df = pd.read_csv(\"https://shravantihable.github.io/AA/Titanic.csv\")\r\n",
        "df\r\n",
        "df = df.dropna()\r\n",
        "new_df = df.loc[df['Survived'] == 1]\r\n",
        "new_df\r\n",
        "groupby_gender = new_df.groupby('Gender')['PassengerId'].count().reset_index()\r\n",
        "groupby_gender\r\n",
        "#predefine code end\r\n",
        "\r\n",
        "#using the dataframe groupby_gender access the column 'PassengerID' and store all the values in a variable value.\r\n",
        "\r\n",
        "#using the dataframe groupby_gender access the column 'Gender' and store all the values in a variable label.\r\n",
        "\r\n",
        "#using the plt.pie() function plot the pie chart, and set the below parameters\r\n",
        "#value\r\n",
        "#labels\r\n",
        "#autopct- set upto 1 decimal place\r\n",
        "#radius- set the radius\r\n",
        "\r\n",
        "plt.show()"
      ],
      "execution_count": 5,
      "outputs": []
    }
  ]
}