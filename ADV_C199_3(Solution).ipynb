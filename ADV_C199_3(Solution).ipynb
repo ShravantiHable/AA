{
  "nbformat": 4,
  "nbformat_minor": 0,
  "metadata": {
    "colab": {
      "name": "ADV_C199.3(Solution).ipynb",
      "provenance": [],
      "collapsed_sections": [],
      "authorship_tag": "ABX9TyMUR/4SPcWrtQQUv9QTLNUm",
      "include_colab_link": true
    },
    "kernelspec": {
      "name": "python3",
      "display_name": "Python 3"
    },
    "widgets": {
      "application/vnd.jupyter.widget-state+json": {
        "e30098dbac454afca626ec9504f70a8a": {
          "model_module": "@jupyter-widgets/controls",
          "model_name": "DropdownModel",
          "state": {
            "_options_labels": [
              "1",
              "2",
              "3",
              "4",
              "5",
              "6",
              "7",
              "8",
              "9",
              "10",
              "11",
              "12",
              "13",
              "14",
              "15",
              "16",
              "17",
              "18",
              "19",
              "20",
              "21",
              "22",
              "23",
              "24",
              "25",
              "26",
              "27",
              "28",
              "29",
              "30",
              "31",
              "32",
              "33",
              "34",
              "35",
              "36",
              "37",
              "38",
              "39",
              "40",
              "41",
              "42",
              "43",
              "44",
              "45",
              "46",
              "47",
              "48",
              "49",
              "50"
            ],
            "_view_name": "DropdownView",
            "style": "IPY_MODEL_1749df227c7047ea957b39099814fdc0",
            "_dom_classes": [],
            "description": "List 1",
            "_model_name": "DropdownModel",
            "index": 4,
            "_view_module": "@jupyter-widgets/controls",
            "_model_module_version": "1.5.0",
            "_view_count": null,
            "disabled": false,
            "_view_module_version": "1.5.0",
            "description_tooltip": null,
            "_model_module": "@jupyter-widgets/controls",
            "layout": "IPY_MODEL_94e5d2c307f9486cbd4d95337cf5b181"
          }
        },
        "1749df227c7047ea957b39099814fdc0": {
          "model_module": "@jupyter-widgets/controls",
          "model_name": "DescriptionStyleModel",
          "state": {
            "_view_name": "StyleView",
            "_model_name": "DescriptionStyleModel",
            "description_width": "",
            "_view_module": "@jupyter-widgets/base",
            "_model_module_version": "1.5.0",
            "_view_count": null,
            "_view_module_version": "1.2.0",
            "_model_module": "@jupyter-widgets/controls"
          }
        },
        "94e5d2c307f9486cbd4d95337cf5b181": {
          "model_module": "@jupyter-widgets/base",
          "model_name": "LayoutModel",
          "state": {
            "_view_name": "LayoutView",
            "grid_template_rows": null,
            "right": null,
            "justify_content": null,
            "_view_module": "@jupyter-widgets/base",
            "overflow": null,
            "_model_module_version": "1.2.0",
            "_view_count": null,
            "flex_flow": null,
            "width": null,
            "min_width": null,
            "border": null,
            "align_items": null,
            "bottom": null,
            "_model_module": "@jupyter-widgets/base",
            "top": null,
            "grid_column": null,
            "overflow_y": null,
            "overflow_x": null,
            "grid_auto_flow": null,
            "grid_area": null,
            "grid_template_columns": null,
            "flex": null,
            "_model_name": "LayoutModel",
            "justify_items": null,
            "grid_row": null,
            "max_height": null,
            "align_content": null,
            "visibility": null,
            "align_self": null,
            "height": null,
            "min_height": null,
            "padding": null,
            "grid_auto_rows": null,
            "grid_gap": null,
            "max_width": null,
            "order": null,
            "_view_module_version": "1.2.0",
            "grid_template_areas": null,
            "object_position": null,
            "object_fit": null,
            "grid_auto_columns": null,
            "margin": null,
            "display": null,
            "left": null
          }
        },
        "d07bbd16174e4076afdcda097b03ad17": {
          "model_module": "@jupyter-widgets/controls",
          "model_name": "DropdownModel",
          "state": {
            "_options_labels": [
              "1",
              "2",
              "3",
              "4",
              "5",
              "6",
              "7",
              "8",
              "9",
              "10",
              "11",
              "12",
              "13",
              "14",
              "15",
              "16",
              "17",
              "18",
              "19",
              "20",
              "21",
              "22",
              "23",
              "24",
              "25",
              "26",
              "27",
              "28",
              "29",
              "30",
              "31",
              "32",
              "33",
              "34",
              "35",
              "36",
              "37",
              "38",
              "39",
              "40",
              "41",
              "42",
              "43",
              "44",
              "45",
              "46",
              "47",
              "48",
              "49",
              "50"
            ],
            "_view_name": "DropdownView",
            "style": "IPY_MODEL_c8b5b90ca1a241709700bc241cd2c294",
            "_dom_classes": [],
            "description": "List 2",
            "_model_name": "DropdownModel",
            "index": 4,
            "_view_module": "@jupyter-widgets/controls",
            "_model_module_version": "1.5.0",
            "_view_count": null,
            "disabled": false,
            "_view_module_version": "1.5.0",
            "description_tooltip": null,
            "_model_module": "@jupyter-widgets/controls",
            "layout": "IPY_MODEL_414f97fa11df45c786a72bb4bd94c03b"
          }
        },
        "c8b5b90ca1a241709700bc241cd2c294": {
          "model_module": "@jupyter-widgets/controls",
          "model_name": "DescriptionStyleModel",
          "state": {
            "_view_name": "StyleView",
            "_model_name": "DescriptionStyleModel",
            "description_width": "",
            "_view_module": "@jupyter-widgets/base",
            "_model_module_version": "1.5.0",
            "_view_count": null,
            "_view_module_version": "1.2.0",
            "_model_module": "@jupyter-widgets/controls"
          }
        },
        "414f97fa11df45c786a72bb4bd94c03b": {
          "model_module": "@jupyter-widgets/base",
          "model_name": "LayoutModel",
          "state": {
            "_view_name": "LayoutView",
            "grid_template_rows": null,
            "right": null,
            "justify_content": null,
            "_view_module": "@jupyter-widgets/base",
            "overflow": null,
            "_model_module_version": "1.2.0",
            "_view_count": null,
            "flex_flow": null,
            "width": null,
            "min_width": null,
            "border": null,
            "align_items": null,
            "bottom": null,
            "_model_module": "@jupyter-widgets/base",
            "top": null,
            "grid_column": null,
            "overflow_y": null,
            "overflow_x": null,
            "grid_auto_flow": null,
            "grid_area": null,
            "grid_template_columns": null,
            "flex": null,
            "_model_name": "LayoutModel",
            "justify_items": null,
            "grid_row": null,
            "max_height": null,
            "align_content": null,
            "visibility": null,
            "align_self": null,
            "height": null,
            "min_height": null,
            "padding": null,
            "grid_auto_rows": null,
            "grid_gap": null,
            "max_width": null,
            "order": null,
            "_view_module_version": "1.2.0",
            "grid_template_areas": null,
            "object_position": null,
            "object_fit": null,
            "grid_auto_columns": null,
            "margin": null,
            "display": null,
            "left": null
          }
        },
        "7d18ec2511544d689942a66aba2b5571": {
          "model_module": "@jupyter-widgets/controls",
          "model_name": "ButtonModel",
          "state": {
            "_view_name": "ButtonView",
            "style": "IPY_MODEL_2a56018b55794abe9c313d04c68db6e0",
            "_dom_classes": [],
            "description": "ADD",
            "_model_name": "ButtonModel",
            "button_style": "",
            "_view_module": "@jupyter-widgets/controls",
            "_model_module_version": "1.5.0",
            "tooltip": "",
            "_view_count": null,
            "disabled": false,
            "_view_module_version": "1.5.0",
            "layout": "IPY_MODEL_9aa301eebeed45f4b79ee0cee74e6c06",
            "_model_module": "@jupyter-widgets/controls",
            "icon": ""
          }
        },
        "2a56018b55794abe9c313d04c68db6e0": {
          "model_module": "@jupyter-widgets/controls",
          "model_name": "ButtonStyleModel",
          "state": {
            "_view_name": "StyleView",
            "_model_name": "ButtonStyleModel",
            "_view_module": "@jupyter-widgets/base",
            "_model_module_version": "1.5.0",
            "_view_count": null,
            "button_color": null,
            "font_weight": "",
            "_view_module_version": "1.2.0",
            "_model_module": "@jupyter-widgets/controls"
          }
        },
        "9aa301eebeed45f4b79ee0cee74e6c06": {
          "model_module": "@jupyter-widgets/base",
          "model_name": "LayoutModel",
          "state": {
            "_view_name": "LayoutView",
            "grid_template_rows": null,
            "right": null,
            "justify_content": null,
            "_view_module": "@jupyter-widgets/base",
            "overflow": null,
            "_model_module_version": "1.2.0",
            "_view_count": null,
            "flex_flow": null,
            "width": null,
            "min_width": null,
            "border": null,
            "align_items": null,
            "bottom": null,
            "_model_module": "@jupyter-widgets/base",
            "top": null,
            "grid_column": null,
            "overflow_y": null,
            "overflow_x": null,
            "grid_auto_flow": null,
            "grid_area": null,
            "grid_template_columns": null,
            "flex": null,
            "_model_name": "LayoutModel",
            "justify_items": null,
            "grid_row": null,
            "max_height": null,
            "align_content": null,
            "visibility": null,
            "align_self": null,
            "height": null,
            "min_height": null,
            "padding": null,
            "grid_auto_rows": null,
            "grid_gap": null,
            "max_width": null,
            "order": null,
            "_view_module_version": "1.2.0",
            "grid_template_areas": null,
            "object_position": null,
            "object_fit": null,
            "grid_auto_columns": null,
            "margin": null,
            "display": null,
            "left": null
          }
        }
      }
    }
  },
  "cells": [
    {
      "cell_type": "markdown",
      "metadata": {
        "id": "view-in-github",
        "colab_type": "text"
      },
      "source": [
        "<a href=\"https://colab.research.google.com/github/ShravantiHable/AA/blob/main/ADV_C199_3(Solution).ipynb\" target=\"_parent\"><img src=\"https://colab.research.google.com/assets/colab-badge.svg\" alt=\"Open In Colab\"/></a>"
      ]
    },
    {
      "cell_type": "code",
      "metadata": {
        "colab": {
          "base_uri": "https://localhost:8080/",
          "height": 128,
          "referenced_widgets": [
            "e30098dbac454afca626ec9504f70a8a",
            "1749df227c7047ea957b39099814fdc0",
            "94e5d2c307f9486cbd4d95337cf5b181",
            "d07bbd16174e4076afdcda097b03ad17",
            "c8b5b90ca1a241709700bc241cd2c294",
            "414f97fa11df45c786a72bb4bd94c03b",
            "7d18ec2511544d689942a66aba2b5571",
            "2a56018b55794abe9c313d04c68db6e0",
            "9aa301eebeed45f4b79ee0cee74e6c06"
          ]
        },
        "id": "EpzK2Y96Rtz7",
        "outputId": "fb23b552-8d8f-490f-ff20-a626723ab632"
      },
      "source": [
        "#AA3- create a function which will take the values from both the drop down and perform addition. Then create a button to call this function and print output on console\r\n",
        "#predefine code\r\n",
        "from ipywidgets import widgets\r\n",
        "from IPython.display import display, clear_output\r\n",
        "import numpy as np\r\n",
        "\r\n",
        "List1=np.arange(1,51,1)\r\n",
        "List2=np.arange(1,51,1)\r\n",
        "\r\n",
        "\r\n",
        "\r\n",
        "dropdown1=widgets.Dropdown(options = List1,description='List 1')\r\n",
        "display(dropdown1)\r\n",
        "dropdown2=widgets.Dropdown(options = List2,description='List 2')\r\n",
        "display(dropdown2)  \r\n",
        "#predefined end\r\n",
        "\r\n",
        "#using the def keyword define a function add_nos(), and inside it pass a parameter b, this b will generate an event, when the function is called, on click of the button.\r\n",
        "def add_nos(b):\r\n",
        "    #inside this function declare the variable  dropdown1 as global to use it inside the function\r\n",
        "    global dropdown1\r\n",
        "    #inside this function declare the variable  dropdown2 as global to use it inside the function\r\n",
        "    global dropdown2\r\n",
        "    #define a variable addition and inside it store the addition of values taken from drop down widget. For this, access the values of dropdown1 using .value like this dropdown1.value and access the values of dropdown2 using .value like this dropdown2.value then add these values using '+' operator.\r\n",
        "    addition=dropdown1.value+dropdown2.value\r\n",
        "    #then print the variable addition using the print() function\r\n",
        "    print(addition)\r\n",
        "\r\n",
        "#now, define  a variable add_btn, and inside it store the button component. So create a Button component, using the widgets.Button() function and inside it set the discription parameter to a string \"Add\".\r\n",
        "add_btn = widgets.Button(description=\"ADD\")\r\n",
        "#now using the variable add_btn which holds the button component, access the on_click() function and inside it pass the function name add_nos\r\n",
        "add_btn.on_click(add_nos) \r\n",
        "#using the display() function call the add_btn variable to display the button on the output cell.\r\n",
        "display(add_btn)\r\n",
        "\r\n"
      ],
      "execution_count": 1,
      "outputs": [
        {
          "output_type": "display_data",
          "data": {
            "application/vnd.jupyter.widget-view+json": {
              "model_id": "e30098dbac454afca626ec9504f70a8a",
              "version_minor": 0,
              "version_major": 2
            },
            "text/plain": [
              "Dropdown(description='List 1', options=(1, 2, 3, 4, 5, 6, 7, 8, 9, 10, 11, 12, 13, 14, 15, 16, 17, 18, 19, 20,…"
            ]
          },
          "metadata": {
            "tags": []
          }
        },
        {
          "output_type": "display_data",
          "data": {
            "application/vnd.jupyter.widget-view+json": {
              "model_id": "d07bbd16174e4076afdcda097b03ad17",
              "version_minor": 0,
              "version_major": 2
            },
            "text/plain": [
              "Dropdown(description='List 2', options=(1, 2, 3, 4, 5, 6, 7, 8, 9, 10, 11, 12, 13, 14, 15, 16, 17, 18, 19, 20,…"
            ]
          },
          "metadata": {
            "tags": []
          }
        },
        {
          "output_type": "display_data",
          "data": {
            "application/vnd.jupyter.widget-view+json": {
              "model_id": "7d18ec2511544d689942a66aba2b5571",
              "version_minor": 0,
              "version_major": 2
            },
            "text/plain": [
              "Button(description='ADD', style=ButtonStyle())"
            ]
          },
          "metadata": {
            "tags": []
          }
        },
        {
          "output_type": "stream",
          "text": [
            "10\n"
          ],
          "name": "stdout"
        }
      ]
    }
  ]
}