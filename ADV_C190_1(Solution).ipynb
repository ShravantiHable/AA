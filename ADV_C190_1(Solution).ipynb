{
  "nbformat": 4,
  "nbformat_minor": 0,
  "metadata": {
    "colab": {
      "name": "ADV_C190.1(Solution).ipynb",
      "provenance": [],
      "collapsed_sections": [],
      "authorship_tag": "ABX9TyNTdUiUbMw4rJ5SN4wMWiei",
      "include_colab_link": true
    },
    "kernelspec": {
      "name": "python3",
      "display_name": "Python 3"
    }
  },
  "cells": [
    {
      "cell_type": "markdown",
      "metadata": {
        "id": "view-in-github",
        "colab_type": "text"
      },
      "source": [
        "<a href=\"https://colab.research.google.com/github/ShravantiHable/AA/blob/main/ADV_C190_1(Solution).ipynb\" target=\"_parent\"><img src=\"https://colab.research.google.com/assets/colab-badge.svg\" alt=\"Open In Colab\"/></a>"
      ]
    },
    {
      "cell_type": "code",
      "metadata": {
        "colab": {
          "base_uri": "https://localhost:8080/"
        },
        "id": "Nvtd-6moxaUd",
        "outputId": "2da675ac-0102-4677-bce3-07e1165a25ed"
      },
      "source": [
        "#Additional-Activity-1\r\n",
        "#The \"raw.csv\" file is sorted in descending order\r\n",
        "#So read the CSV and get the name and date of the Satellites which was launched recently\r\n",
        "\r\n",
        "#predefine code\r\n",
        "import pandas as pd\r\n",
        "from matplotlib import pyplot as plt\r\n",
        "df = pd.read_csv('https://shravantihable.github.io/AA/Launch_Date.csv')\r\n",
        "df\r\n",
        "#predefine code end\r\n",
        "\r\n",
        "#from the dataframe df retrive the 1st row using the head() function and store it in variable recent_satellites.\r\n",
        "recent_satellites = df.head(1)\r\n",
        "\r\n",
        "#inside the print() function write the string as \"Recently On : \"\r\n",
        "\r\n",
        "print(\"Recently On : \")\r\n",
        "#inside the print() function access the values of column 'Launch Date' which is present in dataset recent_satellites, by writing the 'Launch Date' inside square bracktes.\r\n",
        "print (recent_satellites['Launch Date'])\r\n",
        "#inside the print() function access the values of column 'Name' which is present in dataset recent_satellites, by writing the 'Name' inside square bracktes.\r\n",
        "print(recent_satellites['Name'])\r\n",
        "#inside the print() function write the string \"Satellites had launched\" to indicate that this satalite had launched recently.\r\n",
        "print(\"Satellites had launched\")\r\n"
      ],
      "execution_count": 4,
      "outputs": [
        {
          "output_type": "stream",
          "text": [
            "Recently On : \n",
            "0    1 April 2019, 09:27 IST\n",
            "Name: Launch Date, dtype: object\n",
            "0    PS4 Stage attached with ExseedSat-2, AMSAT, AR...\n",
            "Name: Name, dtype: object\n",
            "Satellites had launched\n"
          ],
          "name": "stdout"
        }
      ]
    }
  ]
}