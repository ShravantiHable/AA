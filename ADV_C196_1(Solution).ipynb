{
  "nbformat": 4,
  "nbformat_minor": 0,
  "metadata": {
    "colab": {
      "name": "ADV_C196.1(Solution).ipynb",
      "provenance": [],
      "collapsed_sections": [],
      "authorship_tag": "ABX9TyMRP7UOhUQWS6f+Brx3G0BP",
      "include_colab_link": true
    },
    "kernelspec": {
      "name": "python3",
      "display_name": "Python 3"
    }
  },
  "cells": [
    {
      "cell_type": "markdown",
      "metadata": {
        "id": "view-in-github",
        "colab_type": "text"
      },
      "source": [
        "<a href=\"https://colab.research.google.com/github/ShravantiHable/AA/blob/main/ADV_C196_1(Solution).ipynb\" target=\"_parent\"><img src=\"https://colab.research.google.com/assets/colab-badge.svg\" alt=\"Open In Colab\"/></a>"
      ]
    },
    {
      "cell_type": "code",
      "metadata": {
        "colab": {
          "base_uri": "https://localhost:8080/",
          "height": 111
        },
        "id": "nIozq58uglR9",
        "outputId": "9c986e35-0cd2-46ca-d080-2ea29fc89e6c"
      },
      "source": [
        "#Additional Activity 1\r\n",
        "#Count all the total number of female and male passengers on the Titanic ship.\r\n",
        "#predefine code\r\n",
        "#import the required packages \r\n",
        "import pandas as pd\r\n",
        "import matplotlib.pyplot as plt\r\n",
        "#Read the csv file.\r\n",
        "df = pd.read_csv(\"https://shravantihable.github.io/AA/Titanic.csv\")\r\n",
        "df\r\n",
        "#predefine code end\r\n",
        "\r\n",
        "#remove the rows having the NaN values: \r\n",
        "#for this use the df variable which holds the dataframe, access the dropna() function using the '.' operator and again store it in variable df.\r\n",
        "df = df.dropna()\r\n",
        "\r\n",
        "#check the people who survived the Titanic disaster:\r\n",
        "#For this use the df variable and access the loc[] function and inside the square brackets access the column 'Survived' of data frame df and check the values are equal to 1. And store it in data frame new_df.\r\n",
        "new_df = df.loc[df['Survived'] == 1]\r\n",
        "#print the variable new_df\r\n",
        "new_df\r\n",
        "#groupby the gender column and count the passengers from 'PassengerId' column:\r\n",
        "#for this use the new_df data frame and access the groupby() function and inside it write the 'Gender' column name and add one more column ['Passenger'] and on this apply count() function and reset the index to 0 and store it in variable groupby_gender.\r\n",
        "groupby_gender = new_df.groupby('Gender')['PassengerId'].count().reset_index()\r\n",
        "#print the variable groupby_gender\r\n",
        "groupby_gender"
      ],
      "execution_count": 1,
      "outputs": [
        {
          "output_type": "execute_result",
          "data": {
            "text/html": [
              "<div>\n",
              "<style scoped>\n",
              "    .dataframe tbody tr th:only-of-type {\n",
              "        vertical-align: middle;\n",
              "    }\n",
              "\n",
              "    .dataframe tbody tr th {\n",
              "        vertical-align: top;\n",
              "    }\n",
              "\n",
              "    .dataframe thead th {\n",
              "        text-align: right;\n",
              "    }\n",
              "</style>\n",
              "<table border=\"1\" class=\"dataframe\">\n",
              "  <thead>\n",
              "    <tr style=\"text-align: right;\">\n",
              "      <th></th>\n",
              "      <th>Gender</th>\n",
              "      <th>PassengerId</th>\n",
              "    </tr>\n",
              "  </thead>\n",
              "  <tbody>\n",
              "    <tr>\n",
              "      <th>0</th>\n",
              "      <td>female</td>\n",
              "      <td>82</td>\n",
              "    </tr>\n",
              "    <tr>\n",
              "      <th>1</th>\n",
              "      <td>male</td>\n",
              "      <td>41</td>\n",
              "    </tr>\n",
              "  </tbody>\n",
              "</table>\n",
              "</div>"
            ],
            "text/plain": [
              "   Gender  PassengerId\n",
              "0  female           82\n",
              "1    male           41"
            ]
          },
          "metadata": {
            "tags": []
          },
          "execution_count": 1
        }
      ]
    }
  ]
}