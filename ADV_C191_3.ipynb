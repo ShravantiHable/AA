{
  "nbformat": 4,
  "nbformat_minor": 0,
  "metadata": {
    "colab": {
      "name": "ADV-C191.3.ipynb",
      "provenance": [],
      "authorship_tag": "ABX9TyMYMCH8wCUNrNOt8DPAA4E3",
      "include_colab_link": true
    },
    "kernelspec": {
      "name": "python3",
      "display_name": "Python 3"
    }
  },
  "cells": [
    {
      "cell_type": "markdown",
      "metadata": {
        "id": "view-in-github",
        "colab_type": "text"
      },
      "source": [
        "<a href=\"https://colab.research.google.com/github/ShravantiHable/AA/blob/main/ADV_C191_3.ipynb\" target=\"_parent\"><img src=\"https://colab.research.google.com/assets/colab-badge.svg\" alt=\"Open In Colab\"/></a>"
      ]
    },
    {
      "cell_type": "code",
      "metadata": {
        "id": "dKpuVv5MN_Pm"
      },
      "source": [
        "#Addition-Activity-3\r\n",
        "#Rename Rocket Column name to Cost_Of_Mission and sort the data as per Cost_Of_Mission\r\n",
        "\r\n",
        "\r\n",
        "import pandas as pd \r\n",
        "import matplotlib .pyplot as plt\r\n",
        "\r\n",
        "dataframe = pd.read_csv(\"https://shravantihable.github.io/AA/AA's/Space_Corrected.csv\")\r\n",
        "df=dataframe.dropna()\r\n",
        "df\r\n",
        "\r\n",
        "#to rename the column \"Rocket\" to \"Cost_Of_Mission\", use the function df.rename() and inside this function set the columns parameter as {\"Rockets\":\"Cost_Of_Mission\"}.\r\n",
        "#this will rename the column name \"Rocket\" to \"Cost_Of_Mission\".And store it in a variable new.\r\n",
        "\r\n",
        "\r\n",
        "#to sort the data present in the data frame as per the Cost_Of_Mission, access the sort_values() function and inside it set the by parameter equal to ['Cost_Of_Mission'] and store it in variable sorted_df.\r\n",
        "\r\n",
        "#call the sorted_df variable\r\n"
      ],
      "execution_count": null,
      "outputs": []
    }
  ]
}