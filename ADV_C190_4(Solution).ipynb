{
  "nbformat": 4,
  "nbformat_minor": 0,
  "metadata": {
    "colab": {
      "name": "ADV-C190.4(Solution).ipynb",
      "provenance": [],
      "collapsed_sections": [],
      "authorship_tag": "ABX9TyMcny1AFX0J73CiAWEVCzU8",
      "include_colab_link": true
    },
    "kernelspec": {
      "name": "python3",
      "display_name": "Python 3"
    }
  },
  "cells": [
    {
      "cell_type": "markdown",
      "metadata": {
        "id": "view-in-github",
        "colab_type": "text"
      },
      "source": [
        "<a href=\"https://colab.research.google.com/github/ShravantiHable/AA/blob/main/ADV_C190_4(Solution).ipynb\" target=\"_parent\"><img src=\"https://colab.research.google.com/assets/colab-badge.svg\" alt=\"Open In Colab\"/></a>"
      ]
    },
    {
      "cell_type": "code",
      "metadata": {
        "colab": {
          "base_uri": "https://localhost:8080/",
          "height": 536
        },
        "id": "jNS4kRkJ7b8r",
        "outputId": "0a912aea-b663-4e66-9101-ecaff2c0092c"
      },
      "source": [
        "#Additional-Activity-4\r\n",
        "#The \"Launch Mass.csv\" file is sorted in ascending order\r\n",
        "#Plot the 5 least heavy Launch Vehicle name and they weight\r\n",
        "\r\n",
        "#predefine code\r\n",
        "import pandas as pd\r\n",
        "from matplotlib import pyplot as plt\r\n",
        "df = pd.read_csv('https://shravantihable.github.io/AA/Launch%20Mass.csv')\r\n",
        "df\r\n",
        "\r\n",
        "least_heavy_5 = df.head(5)\r\n",
        "mass = least_heavy_5['Launch Mass']\r\n",
        "launch_vehicle = least_heavy_5['Launch Vehicle']\r\n",
        "print(mass)\r\n",
        "print(launch_vehicle)\r\n",
        "#predefine code end\r\n",
        "\r\n",
        "## give the name to the x axis as \"Launch Vehicle\" using the plt.xlabel() function.\r\n",
        "plt.xlabel(\"Launch Vehicle\")\r\n",
        "#to make the xlabels appear vertically, set the rotation as 'vertical' using the plt.xticks() function.\r\n",
        "plt.xticks(rotation='vertical')\r\n",
        "#give the name to the y axis as \"Launch Mass\" using the plt.ylabel() function.\r\n",
        "plt.ylabel(\"Launch Mass\")\r\n",
        "\r\n",
        "#define a variable label and inside it store the launch_vehicle variable which holds the vehical details\r\n",
        "label = launch_vehicle\r\n",
        "#define a variable value and inside it store the mass variable which holds the vehical mass\r\n",
        "value = mass \r\n",
        "#plot the bar graph using the plt.bar() function. And set the parameters of the plt.bar() function in the given order:\r\n",
        "#label\r\n",
        "#value\r\n",
        "#width\r\n",
        "#color\r\n",
        "plt.bar(label, value,width=0.4, color=('red','blue','green','pink','yellow')) #bar-grap"
      ],
      "execution_count": 2,
      "outputs": [
        {
          "output_type": "stream",
          "text": [
            "0      < 1 kg (2.2 lb)\n",
            "1    975 kg (2,150 lb)\n",
            "2    975 kg (2,150 lb)\n",
            "3    960 kg (2,120 lb)\n",
            "4    930 kg (2,050 lb)\n",
            "Name: Launch Mass, dtype: object\n",
            "0    PSLV-C15\n",
            "1      Vostok\n",
            "2      Vostok\n",
            "3    PSLV-C14\n",
            "4     PSLV-D3\n",
            "Name: Launch Vehicle, dtype: object\n"
          ],
          "name": "stdout"
        },
        {
          "output_type": "execute_result",
          "data": {
            "text/plain": [
              "<BarContainer object of 5 artists>"
            ]
          },
          "metadata": {
            "tags": []
          },
          "execution_count": 2
        },
        {
          "output_type": "display_data",
          "data": {
            "image/png": "[encoded data removed]",
            "text/plain": [
              "<Figure size 432x288 with 1 Axes>"
            ]
          },
          "metadata": {
            "tags": [],
            "needs_background": "light"
          }
        }
      ]
    }
  ]
}